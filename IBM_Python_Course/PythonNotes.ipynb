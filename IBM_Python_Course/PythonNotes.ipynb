{
 "cells": [
  {
   "cell_type": "markdown",
   "id": "c150e811",
   "metadata": {},
   "source": [
    "# Curso Python\n"
   ]
  },
  {
   "cell_type": "markdown",
   "id": "b4045796",
   "metadata": {},
   "source": [
    "## 1. Listas"
   ]
  },
  {
   "cell_type": "markdown",
   "id": "16242622",
   "metadata": {},
   "source": [
    "### Texto corrido con saltos de Linea"
   ]
  },
  {
   "cell_type": "code",
   "execution_count": 1,
   "id": "a3e079e0",
   "metadata": {},
   "outputs": [
    {
     "name": "stdout",
     "output_type": "stream",
     "text": [
      "Texto con\n",
      "saltos de\n",
      "Linea\n"
     ]
    }
   ],
   "source": [
    "text = \"\"\"Texto con\n",
    "saltos de\n",
    "Linea\"\"\"\n",
    "print(text)"
   ]
  },
  {
   "cell_type": "code",
   "execution_count": 12,
   "id": "c08f6868",
   "metadata": {},
   "outputs": [
    {
     "data": {
      "text/plain": [
       "[1, 1, 2, 4, 5, 6]"
      ]
     },
     "execution_count": 12,
     "metadata": {},
     "output_type": "execute_result"
    }
   ],
   "source": [
    "a = [1, 2, 4, 5,6,1]\n",
    "b = sorted(a)\n",
    "b\n",
    "\n"
   ]
  },
  {
   "cell_type": "code",
   "execution_count": 11,
   "id": "b1c1b8da",
   "metadata": {},
   "outputs": [
    {
     "data": {
      "text/plain": [
       "1"
      ]
     },
     "execution_count": 11,
     "metadata": {},
     "output_type": "execute_result"
    }
   ],
   "source": [
    "5%2"
   ]
  },
  {
   "cell_type": "code",
   "execution_count": 23,
   "id": "7a87671f",
   "metadata": {},
   "outputs": [
    {
     "data": {
      "text/plain": [
       "Counter({'hola': 2, 'si': 1, 'no,hola': 1})"
      ]
     },
     "execution_count": 23,
     "metadata": {},
     "output_type": "execute_result"
    }
   ],
   "source": [
    "from collections import Counter\n",
    "clean_text = \"Hola Hola Si No,hola\"\n",
    "clean_text = clean_text.lower()\n",
    "words = clean_text.split(\" \")\n",
    "words_dict = Counter(words)\n",
    "words_dict"
   ]
  },
  {
   "cell_type": "code",
   "execution_count": 20,
   "id": "c619e210",
   "metadata": {},
   "outputs": [
    {
     "data": {
      "text/plain": [
       "'!hi. wh?at is the weat[h]er lik?e.'"
      ]
     },
     "execution_count": 20,
     "metadata": {},
     "output_type": "execute_result"
    }
   ],
   "source": [
    "import string\n",
    "my_string = \"!hi. wh?at is the weat[h]er lik?e.\"\n",
    "my_string = my_string.replace(string.punctuation,\"\")\n",
    "my_string "
   ]
  },
  {
   "cell_type": "markdown",
   "id": "3373ea03",
   "metadata": {},
   "source": [
    "### Indices de listas de atras hacia adelante\n",
    "Empiezan en -1 y no en 0"
   ]
  },
  {
   "cell_type": "code",
   "execution_count": 2,
   "id": "26c94858",
   "metadata": {},
   "outputs": [
    {
     "data": {
      "text/plain": [
       "'D'"
      ]
     },
     "execution_count": 2,
     "metadata": {},
     "output_type": "execute_result"
    }
   ],
   "source": [
    "lista = ['A','B','C','D','E']\n",
    "lista[-2]"
   ]
  },
  {
   "cell_type": "markdown",
   "id": "bcbaffc0",
   "metadata": {},
   "source": [
    "### Insertar valores en una lista en una posicion intermedia\n",
    "Con append se agregan al final"
   ]
  },
  {
   "cell_type": "code",
   "execution_count": 3,
   "id": "34bdd890",
   "metadata": {},
   "outputs": [
    {
     "data": {
      "text/plain": [
       "['A', 'B', 'C', 'CH', 'D', 'E']"
      ]
     },
     "execution_count": 3,
     "metadata": {},
     "output_type": "execute_result"
    }
   ],
   "source": [
    "lista.insert(3,'CH')\n",
    "lista"
   ]
  },
  {
   "cell_type": "markdown",
   "id": "31a65c62",
   "metadata": {},
   "source": [
    "### Insertar varios elementos a una lista"
   ]
  },
  {
   "cell_type": "code",
   "execution_count": 4,
   "id": "ea43f68f",
   "metadata": {},
   "outputs": [
    {
     "data": {
      "text/plain": [
       "['A', 'B', 'C', 'CH', 'D', 'E', 'Z', 'Y']"
      ]
     },
     "execution_count": 4,
     "metadata": {},
     "output_type": "execute_result"
    }
   ],
   "source": [
    "lista = lista + ['Z','Y']\n",
    "lista"
   ]
  },
  {
   "cell_type": "markdown",
   "id": "0fde4164",
   "metadata": {},
   "source": [
    "### Buscar el indice de un elemento en una lista"
   ]
  },
  {
   "cell_type": "code",
   "execution_count": 5,
   "id": "e0aa107a",
   "metadata": {},
   "outputs": [
    {
     "data": {
      "text/plain": [
       "6"
      ]
     },
     "execution_count": 5,
     "metadata": {},
     "output_type": "execute_result"
    }
   ],
   "source": [
    "lista.index('Z')"
   ]
  },
  {
   "cell_type": "markdown",
   "id": "7881cc48",
   "metadata": {},
   "source": [
    "### Extend\n",
    "Con extend se agregan elemento extendidos a una lista, mientras que con append no"
   ]
  },
  {
   "cell_type": "code",
   "execution_count": 6,
   "id": "b1087ee1",
   "metadata": {},
   "outputs": [
    {
     "data": {
      "text/plain": [
       "['Michael Jackson', 10.2, 'pop', 10]"
      ]
     },
     "execution_count": 6,
     "metadata": {},
     "output_type": "execute_result"
    }
   ],
   "source": [
    "L = [ \"Michael Jackson\", 10.2]\n",
    "L.extend(['pop', 10])\n",
    "L"
   ]
  },
  {
   "cell_type": "code",
   "execution_count": 7,
   "id": "04b8b504",
   "metadata": {},
   "outputs": [
    {
     "data": {
      "text/plain": [
       "['Michael Jackson', 10.2, ['pop', 10]]"
      ]
     },
     "execution_count": 7,
     "metadata": {},
     "output_type": "execute_result"
    }
   ],
   "source": [
    "L = [ \"Michael Jackson\", 10.2]\n",
    "L.append(['pop', 10])\n",
    "L"
   ]
  },
  {
   "cell_type": "markdown",
   "id": "55833ea1",
   "metadata": {},
   "source": [
    "### Copiar Lista"
   ]
  },
  {
   "cell_type": "code",
   "execution_count": 8,
   "id": "823d7c95",
   "metadata": {},
   "outputs": [
    {
     "data": {
      "text/plain": [
       "['hard rock', 10, 1.2]"
      ]
     },
     "execution_count": 8,
     "metadata": {},
     "output_type": "execute_result"
    }
   ],
   "source": [
    "A = [\"hard rock\", 10, 1.2]\n",
    "B = A[:]\n",
    "B"
   ]
  },
  {
   "cell_type": "markdown",
   "id": "4736b56a",
   "metadata": {},
   "source": [
    "## 2. Tuplas\n",
    "Son màs eficiente y se deben usar si se sabe que una lista no se debe alterar en el futuro"
   ]
  },
  {
   "cell_type": "code",
   "execution_count": 25,
   "id": "85a010d4",
   "metadata": {},
   "outputs": [
    {
     "data": {
      "text/plain": [
       "('C', 1)"
      ]
     },
     "execution_count": 25,
     "metadata": {},
     "output_type": "execute_result"
    }
   ],
   "source": [
    "tupla = ('A','B','C',1,2)\n",
    "tupla[2:4]"
   ]
  },
  {
   "cell_type": "markdown",
   "id": "a1508751",
   "metadata": {},
   "source": [
    "### desempaquetado de tuplas"
   ]
  },
  {
   "cell_type": "code",
   "execution_count": 26,
   "id": "0352ec7c",
   "metadata": {},
   "outputs": [
    {
     "data": {
      "text/plain": [
       "'A'"
      ]
     },
     "execution_count": 26,
     "metadata": {},
     "output_type": "execute_result"
    }
   ],
   "source": [
    "a,b,c,d,e = tupla\n",
    "a"
   ]
  },
  {
   "cell_type": "markdown",
   "id": "fb050f0d",
   "metadata": {},
   "source": [
    "## 3. Diccionarios\n",
    "Las claves deben ser unicas, las claves y los valores pueden ser de diferentes tipos en todas las combinaciones"
   ]
  },
  {
   "cell_type": "markdown",
   "id": "90c5b990",
   "metadata": {},
   "source": [
    "## 4. Conjuntos"
   ]
  },
  {
   "cell_type": "markdown",
   "id": "6488d662",
   "metadata": {},
   "source": [
    "Su utilidad es que permiten realizar operaciones de conjuntos"
   ]
  },
  {
   "cell_type": "code",
   "execution_count": 6,
   "id": "2e64de34",
   "metadata": {},
   "outputs": [],
   "source": [
    "# Sample Sets\n",
    "\n",
    "album_set1 = set([\"Thriller\", 'AC/DC', 'Back in Black'])\n",
    "album_set2 = set([ \"AC/DC\", \"Back in Black\", \"The Dark Side of the Moon\"])"
   ]
  },
  {
   "cell_type": "markdown",
   "id": "a45c8912",
   "metadata": {},
   "source": [
    "Operaciones con conjuntos"
   ]
  },
  {
   "cell_type": "code",
   "execution_count": 7,
   "id": "c3daeb4d",
   "metadata": {},
   "outputs": [
    {
     "data": {
      "text/plain": [
       "{'AC/DC', 'Back in Black'}"
      ]
     },
     "execution_count": 7,
     "metadata": {},
     "output_type": "execute_result"
    }
   ],
   "source": [
    "# Find the intersections\n",
    "\n",
    "intersection = album_set1 & album_set2\n",
    "intersection"
   ]
  },
  {
   "cell_type": "code",
   "execution_count": 8,
   "id": "2991fd10",
   "metadata": {},
   "outputs": [
    {
     "data": {
      "text/plain": [
       "{'Thriller'}"
      ]
     },
     "execution_count": 8,
     "metadata": {},
     "output_type": "execute_result"
    }
   ],
   "source": [
    "# Find the difference in set1 but not set2\n",
    "\n",
    "album_set1.difference(album_set2)  "
   ]
  },
  {
   "cell_type": "code",
   "execution_count": 9,
   "id": "754a350a",
   "metadata": {},
   "outputs": [
    {
     "data": {
      "text/plain": [
       "{'AC/DC', 'Back in Black'}"
      ]
     },
     "execution_count": 9,
     "metadata": {},
     "output_type": "execute_result"
    }
   ],
   "source": [
    "album_set1.intersection(album_set2)   "
   ]
  },
  {
   "cell_type": "code",
   "execution_count": 10,
   "id": "7fd4429a",
   "metadata": {},
   "outputs": [
    {
     "data": {
      "text/plain": [
       "{'AC/DC', 'Back in Black', 'The Dark Side of the Moon', 'Thriller'}"
      ]
     },
     "execution_count": 10,
     "metadata": {},
     "output_type": "execute_result"
    }
   ],
   "source": [
    "album_set1.union(album_set2)"
   ]
  },
  {
   "cell_type": "code",
   "execution_count": 11,
   "id": "52b56193",
   "metadata": {},
   "outputs": [
    {
     "data": {
      "text/plain": [
       "True"
      ]
     },
     "execution_count": 11,
     "metadata": {},
     "output_type": "execute_result"
    }
   ],
   "source": [
    "# Check if subset\n",
    "\n",
    "set({\"Back in Black\", \"AC/DC\"}).issubset(album_set1)    "
   ]
  },
  {
   "cell_type": "markdown",
   "id": "4061e093",
   "metadata": {},
   "source": [
    "## 5. Bucles"
   ]
  },
  {
   "cell_type": "markdown",
   "id": "30a1bc07",
   "metadata": {},
   "source": [
    "**Continue:** se usa para saltarse ese recorrido del bucle, desde donde lea la instruccion  \n",
    "**Else:** en un bucle no funciona como un \"si no\" sino que es algo que se ejecuta apenas terminan todos los ciclos del bucle.  \n",
    "**Break:** se sale del bucle \n",
    "Si se rompe antes de que termine con un break entonces no se ejecuta el else"
   ]
  },
  {
   "cell_type": "markdown",
   "id": "ce892f06",
   "metadata": {},
   "source": [
    "## 6. Generadores"
   ]
  },
  {
   "cell_type": "code",
   "execution_count": 12,
   "id": "48f42c45",
   "metadata": {},
   "outputs": [],
   "source": [
    "def generarNumeros():\n",
    "    \n",
    "    yield numeros"
   ]
  },
  {
   "cell_type": "markdown",
   "id": "bdcf28b4",
   "metadata": {},
   "source": [
    "Genera solo un valor a la vez, en lugar de construir todo de una sola vez. Son mas eficientes que una funcion comun. Sin necesidad de definirlo entrega el resultado en una lista y va acumulando elementos en cada llamada."
   ]
  },
  {
   "cell_type": "code",
   "execution_count": 13,
   "id": "6ea0bfdd",
   "metadata": {},
   "outputs": [
    {
     "data": {
      "text/plain": [
       "[2, 4, 6, 8, 10, 12, 14, 16, 18]"
      ]
     },
     "execution_count": 13,
     "metadata": {},
     "output_type": "execute_result"
    }
   ],
   "source": [
    "def generarPares(limite):\n",
    "    num =1\n",
    "    miLista=[]\n",
    "    while num<limite:\n",
    "        miLista.append(num*2)\n",
    "        num+=1\n",
    "    return miLista\n",
    "    \n",
    "generarPares(10)"
   ]
  },
  {
   "cell_type": "code",
   "execution_count": 14,
   "id": "b3e27b67",
   "metadata": {},
   "outputs": [
    {
     "data": {
      "text/plain": [
       "<generator object generarPares at 0x0000018FB0E07DD0>"
      ]
     },
     "execution_count": 14,
     "metadata": {},
     "output_type": "execute_result"
    }
   ],
   "source": [
    "def generarPares(limite):\n",
    "    num =1\n",
    "    while num<limite:\n",
    "        yield num*2\n",
    "        num+=1\n",
    "    \n",
    "generarPares(10)"
   ]
  },
  {
   "cell_type": "code",
   "execution_count": 15,
   "id": "1d5a31cf",
   "metadata": {},
   "outputs": [
    {
     "name": "stdout",
     "output_type": "stream",
     "text": [
      "2\n",
      "4\n",
      "6\n",
      "8\n",
      "10\n",
      "12\n",
      "14\n",
      "16\n",
      "18\n"
     ]
    }
   ],
   "source": [
    "generador = generarPares(10)\n",
    "for i in generador:\n",
    "    print(i)\n"
   ]
  },
  {
   "cell_type": "code",
   "execution_count": 16,
   "id": "25fc233c",
   "metadata": {},
   "outputs": [
    {
     "name": "stdout",
     "output_type": "stream",
     "text": [
      "2\n",
      "4\n"
     ]
    }
   ],
   "source": [
    "generador = generarPares(10)\n",
    "print(next(generador))\n",
    "print(next(generador))"
   ]
  },
  {
   "cell_type": "markdown",
   "id": "a33395a2",
   "metadata": {},
   "source": [
    "## 7. Control de excepciones"
   ]
  },
  {
   "cell_type": "markdown",
   "id": "f2c3d1d2",
   "metadata": {},
   "source": [
    "Las excepciones se puede controlar por su nombre exacto.\n",
    "Finally sirve para que pase asi se llegue a la excepcion o no, esa linea siempre se ejecute al final."
   ]
  },
  {
   "cell_type": "code",
   "execution_count": 55,
   "id": "e07c3849",
   "metadata": {},
   "outputs": [
    {
     "name": "stdout",
     "output_type": "stream",
     "text": [
      "No se puede dividir entre 0\n",
      "Cerrar conexion\n"
     ]
    }
   ],
   "source": [
    "num1 = 1\n",
    "num2 =0\n",
    "\n",
    "try:\n",
    "    num1/num2\n",
    "except ZeroDivisionError:\n",
    "    print('No se puede dividir entre 0')\n",
    "finally:\n",
    "    print('Cerrar conexion')"
   ]
  },
  {
   "cell_type": "markdown",
   "id": "c659e235",
   "metadata": {},
   "source": [
    "Se pueden generar excepciones propias o personalizadas con Raise, sin necesidad de que realmente se genere un error."
   ]
  },
  {
   "cell_type": "code",
   "execution_count": 56,
   "id": "dc6fa8c6",
   "metadata": {},
   "outputs": [
    {
     "ename": "TypeError",
     "evalue": "No se permiten edades negativas",
     "output_type": "error",
     "traceback": [
      "\u001b[1;31m---------------------------------------------------------------------------\u001b[0m",
      "\u001b[1;31mTypeError\u001b[0m                                 Traceback (most recent call last)",
      "\u001b[1;32m<ipython-input-56-a3cf86ff9a8b>\u001b[0m in \u001b[0;36m<module>\u001b[1;34m\u001b[0m\n\u001b[0;32m      1\u001b[0m \u001b[0medad\u001b[0m \u001b[1;33m=\u001b[0m \u001b[1;33m-\u001b[0m\u001b[1;36m1\u001b[0m\u001b[1;33m\u001b[0m\u001b[1;33m\u001b[0m\u001b[0m\n\u001b[0;32m      2\u001b[0m \u001b[1;32mif\u001b[0m \u001b[0medad\u001b[0m\u001b[1;33m<\u001b[0m\u001b[1;36m0\u001b[0m\u001b[1;33m:\u001b[0m\u001b[1;33m\u001b[0m\u001b[1;33m\u001b[0m\u001b[0m\n\u001b[1;32m----> 3\u001b[1;33m     \u001b[1;32mraise\u001b[0m \u001b[0mTypeError\u001b[0m\u001b[1;33m(\u001b[0m\u001b[1;34m'No se permiten edades negativas'\u001b[0m\u001b[1;33m)\u001b[0m\u001b[1;33m\u001b[0m\u001b[1;33m\u001b[0m\u001b[0m\n\u001b[0m",
      "\u001b[1;31mTypeError\u001b[0m: No se permiten edades negativas"
     ]
    }
   ],
   "source": [
    "edad = -1\n",
    "if edad<0:\n",
    "    raise TypeError('No se permiten edades negativas')"
   ]
  },
  {
   "cell_type": "code",
   "execution_count": 57,
   "id": "706aa219",
   "metadata": {},
   "outputs": [
    {
     "ename": "ZeroDivisionError",
     "evalue": "No se permiten edades negativas",
     "output_type": "error",
     "traceback": [
      "\u001b[1;31m---------------------------------------------------------------------------\u001b[0m",
      "\u001b[1;31mZeroDivisionError\u001b[0m                         Traceback (most recent call last)",
      "\u001b[1;32m<ipython-input-57-98cfdbaf6d26>\u001b[0m in \u001b[0;36m<module>\u001b[1;34m\u001b[0m\n\u001b[0;32m      1\u001b[0m \u001b[0medad\u001b[0m \u001b[1;33m=\u001b[0m \u001b[1;33m-\u001b[0m\u001b[1;36m1\u001b[0m\u001b[1;33m\u001b[0m\u001b[1;33m\u001b[0m\u001b[0m\n\u001b[0;32m      2\u001b[0m \u001b[1;32mif\u001b[0m \u001b[0medad\u001b[0m\u001b[1;33m<\u001b[0m\u001b[1;36m0\u001b[0m\u001b[1;33m:\u001b[0m\u001b[1;33m\u001b[0m\u001b[1;33m\u001b[0m\u001b[0m\n\u001b[1;32m----> 3\u001b[1;33m     \u001b[1;32mraise\u001b[0m \u001b[0mZeroDivisionError\u001b[0m\u001b[1;33m(\u001b[0m\u001b[1;34m'No se permiten edades negativas'\u001b[0m\u001b[1;33m)\u001b[0m\u001b[1;33m\u001b[0m\u001b[1;33m\u001b[0m\u001b[0m\n\u001b[0m",
      "\u001b[1;31mZeroDivisionError\u001b[0m: No se permiten edades negativas"
     ]
    }
   ],
   "source": [
    "edad = -1\n",
    "if edad<0:\n",
    "    raise ZeroDivisionError('No se permiten edades negativas')"
   ]
  },
  {
   "cell_type": "code",
   "execution_count": null,
   "id": "18b49f8d",
   "metadata": {},
   "outputs": [],
   "source": [
    "# potential code before try catch\n",
    "\n",
    "try:\n",
    "    # code to try to execute\n",
    "except ZeroDivisionError:\n",
    "    # code to execute if there is a ZeroDivisionError\n",
    "except NameError:\n",
    "    # code to execute if there is a NameError\n",
    "except:\n",
    "    # code to execute if ther is any exception\n",
    "else:\n",
    "    # code to execute if there is no exception\n",
    "finally:\n",
    "    # code to execute at the end of the try except no matter what\n",
    "    \n",
    "# code that will execute if there is no exception or a one that we are handling"
   ]
  },
  {
   "cell_type": "markdown",
   "id": "900f3a2e",
   "metadata": {},
   "source": [
    "#### Utilización de Logger para guardar errores"
   ]
  },
  {
   "cell_type": "code",
   "execution_count": null,
   "id": "938cf28a",
   "metadata": {},
   "outputs": [],
   "source": [
    "## Set error file\n",
    "logging.basicConfig(filename='myapp.log', level=logging.ERROR,\n",
    "                    format='%(asctime)s %(levelname)s %(name)s %(message)s')\n",
    "logger=logging.getLogger(__name__)"
   ]
  },
  {
   "cell_type": "code",
   "execution_count": null,
   "id": "ea7e1ca4",
   "metadata": {},
   "outputs": [],
   "source": [
    " try:\n",
    "        sheet_instance.update_cells(cell_list)\n",
    "    except Exception as e:\n",
    "        logger.exception(e)\n",
    "        if \"Please try again\" in str(e): \n",
    "            time.sleep(30)\n",
    "        else: traceback.print_exc()"
   ]
  },
  {
   "cell_type": "markdown",
   "id": "328c1041",
   "metadata": {},
   "source": [
    "## 8. Funciones"
   ]
  },
  {
   "cell_type": "markdown",
   "id": "d61ddf2f",
   "metadata": {},
   "source": [
    "poner ayuda a una funcion"
   ]
  },
  {
   "cell_type": "code",
   "execution_count": 2,
   "id": "392cd2ce",
   "metadata": {},
   "outputs": [
    {
     "name": "stdout",
     "output_type": "stream",
     "text": [
      "Help on function add in module __main__:\n",
      "\n",
      "add(a)\n",
      "    add 1 to a\n",
      "\n"
     ]
    }
   ],
   "source": [
    "def add(a):\n",
    "    \"\"\"\n",
    "    add 1 to a\n",
    "    \"\"\"\n",
    "    b = a + 1\n",
    "    print(a, \"if you add one\", b)\n",
    "    return(b)\n",
    "help(add)"
   ]
  },
  {
   "cell_type": "markdown",
   "id": "24422ecf",
   "metadata": {},
   "source": [
    "Si el mismo objeto que se pasa es el que se modifica, la modificacion se ve reflejada en el objeto global"
   ]
  },
  {
   "cell_type": "code",
   "execution_count": 17,
   "id": "00948db1",
   "metadata": {},
   "outputs": [
    {
     "data": {
      "text/plain": [
       "['One', 'Two', 'Three', 'Four']"
      ]
     },
     "execution_count": 17,
     "metadata": {},
     "output_type": "execute_result"
    }
   ],
   "source": [
    "def addItems(list):\n",
    "    list.append(\"Three\")\n",
    "    list.append(\"Four\")\n",
    "\n",
    "myList = [\"One\",\"Two\"]\n",
    "\n",
    "addItems(myList)\n",
    "\n",
    "myList"
   ]
  },
  {
   "cell_type": "markdown",
   "id": "52eb9d2a",
   "metadata": {},
   "source": [
    "## 9.  Programacion Orientada a Objetos"
   ]
  },
  {
   "cell_type": "markdown",
   "id": "10b6ddea",
   "metadata": {},
   "source": [
    "Crear una clase.\n",
    "Un método es una funcion particular de la clase"
   ]
  },
  {
   "cell_type": "code",
   "execution_count": 18,
   "id": "0df7907f",
   "metadata": {},
   "outputs": [],
   "source": [
    "class Coche():\n",
    "    ### Propiedades iniciales con constructor\n",
    "    def __init__(self):\n",
    "        self.largoChasis = 250\n",
    "        self.anchoChasis = 120\n",
    "        self.__ruedas = 4 ## Variable encapsulada\n",
    "        self.__enMarcha = False\n",
    "\n",
    "    ### Metodos o comportamientoa\n",
    "    \n",
    "    def arrancar(self):\n",
    "        self.__enMarcha = True\n",
    "        \n",
    "    def estado(self):\n",
    "        if self.__enMarcha == True:\n",
    "            print('El coche esta en marcha')\n",
    "        else:\n",
    "            print('El coche esta parado')\n",
    "            \n",
    "miCoche = Coche() ## Instanciar una clase"
   ]
  },
  {
   "cell_type": "code",
   "execution_count": 19,
   "id": "d0f7dbeb",
   "metadata": {},
   "outputs": [
    {
     "name": "stdout",
     "output_type": "stream",
     "text": [
      "250\n",
      "El coche esta en marcha\n"
     ]
    }
   ],
   "source": [
    "print(miCoche.largoChasis)\n",
    "miCoche.arrancar()\n",
    "miCoche.estado()"
   ]
  },
  {
   "cell_type": "code",
   "execution_count": 20,
   "id": "37957ee3",
   "metadata": {},
   "outputs": [],
   "source": [
    "miCoche2 = Coche()"
   ]
  },
  {
   "cell_type": "markdown",
   "id": "662c2448",
   "metadata": {},
   "source": [
    "Encapsulacion es la forma de proteger una propiedad para que no se pueda modificar desde afuera de la clase"
   ]
  },
  {
   "cell_type": "markdown",
   "id": "0a46f285",
   "metadata": {},
   "source": [
    "La encapsulacion tambien se puede usar para los mètodos"
   ]
  },
  {
   "cell_type": "code",
   "execution_count": 21,
   "id": "e31e6543",
   "metadata": {},
   "outputs": [],
   "source": [
    "class Coche():\n",
    "    ### Propiedades iniciales con constructor\n",
    "    def __init__(self):\n",
    "        self.largoChasis = 250\n",
    "        self.anchoChasis = 120\n",
    "        self.__ruedas = 4 ## Variable encapsulada\n",
    "        self.__enMarcha = False\n",
    "\n",
    "    ### Metodos o comportamientoa\n",
    "    \n",
    "    def arrancar(self):\n",
    "        self.__enMarcha = True\n",
    "        \n",
    "    def estado(self):\n",
    "        if self.__enMarcha == True:\n",
    "            print('El coche esta en marcha')\n",
    "        else:\n",
    "            print('El coche esta parado')\n",
    "            \n",
    "miCoche = Coche() ## Instanciar una clase"
   ]
  },
  {
   "cell_type": "code",
   "execution_count": 22,
   "id": "30fa41d2",
   "metadata": {},
   "outputs": [
    {
     "name": "stdout",
     "output_type": "stream",
     "text": [
      "250\n",
      "El coche esta en marcha\n"
     ]
    }
   ],
   "source": [
    "print(miCoche.largoChasis)\n",
    "miCoche.arrancar()\n",
    "miCoche.estado()"
   ]
  },
  {
   "cell_type": "markdown",
   "id": "46ec54c1",
   "metadata": {},
   "source": [
    "Se pueden heredar atributos y comprotamientos de clases  padre, llamando dicha clase al crear la nueva."
   ]
  },
  {
   "cell_type": "code",
   "execution_count": 23,
   "id": "29ac3c1d",
   "metadata": {},
   "outputs": [],
   "source": [
    "class moto(Coche):\n",
    "    pass"
   ]
  },
  {
   "cell_type": "code",
   "execution_count": 24,
   "id": "d750395c",
   "metadata": {},
   "outputs": [
    {
     "name": "stdout",
     "output_type": "stream",
     "text": [
      "El coche esta parado\n"
     ]
    }
   ],
   "source": [
    "miMoto = moto()\n",
    "miMoto.estado()"
   ]
  },
  {
   "cell_type": "markdown",
   "id": "d69d0574",
   "metadata": {},
   "source": [
    "Se pueden sobre escribir atributos y procedimientos en los hijos"
   ]
  },
  {
   "cell_type": "code",
   "execution_count": 25,
   "id": "902c677c",
   "metadata": {},
   "outputs": [],
   "source": [
    "class moto(Coche):\n",
    "    hcaballito=\"\"\n",
    "    ## Nuevo comportamiento que no hereda del padre\n",
    "    def caballito(self):\n",
    "        hcaballito = 'Voy haciendo un caballito'\n",
    "    ## Sobre escribir un comprotamiento de la Clase padre\n",
    "    def estado(self):\n",
    "        if self.__enMarcha == True:\n",
    "            print('El coche esta en marcha')\n",
    "        else:\n",
    "            print('El coche esta parado')\n",
    "        print(hcaballito)\n",
    "    \n",
    "    ## Tambien se puede hacer para los atributos de inicio\n",
    "        \n",
    "        \n"
   ]
  },
  {
   "cell_type": "code",
   "execution_count": 26,
   "id": "88837f50",
   "metadata": {},
   "outputs": [],
   "source": [
    "miMoto = moto()\n",
    "miMoto.caballito()\n",
    "miMoto.arrancar()\n"
   ]
  },
  {
   "cell_type": "markdown",
   "id": "ee055949",
   "metadata": {},
   "source": [
    "se puede heredar de dos clases a la vez"
   ]
  },
  {
   "cell_type": "code",
   "execution_count": 27,
   "id": "a5e8ed79",
   "metadata": {},
   "outputs": [
    {
     "ename": "TypeError",
     "evalue": "Cannot create a consistent method resolution\norder (MRO) for bases Coche, moto",
     "output_type": "error",
     "traceback": [
      "\u001b[1;31m---------------------------------------------------------------------------\u001b[0m",
      "\u001b[1;31mTypeError\u001b[0m                                 Traceback (most recent call last)",
      "\u001b[1;32m<ipython-input-27-0617b9166cef>\u001b[0m in \u001b[0;36m<module>\u001b[1;34m\u001b[0m\n\u001b[1;32m----> 1\u001b[1;33m \u001b[1;32mclass\u001b[0m \u001b[0motro\u001b[0m\u001b[1;33m(\u001b[0m\u001b[0mCoche\u001b[0m\u001b[1;33m,\u001b[0m\u001b[0mmoto\u001b[0m\u001b[1;33m)\u001b[0m\u001b[1;33m:\u001b[0m \u001b[1;31m## El orden importa, siempre se da preferencia a la que este mas a la derecha.\u001b[0m\u001b[1;33m\u001b[0m\u001b[1;33m\u001b[0m\u001b[0m\n\u001b[0m\u001b[0;32m      2\u001b[0m     \u001b[1;32mpass\u001b[0m\u001b[1;33m\u001b[0m\u001b[1;33m\u001b[0m\u001b[0m\n",
      "\u001b[1;31mTypeError\u001b[0m: Cannot create a consistent method resolution\norder (MRO) for bases Coche, moto"
     ]
    }
   ],
   "source": [
    "class otro(Coche,moto): ## El orden importa, siempre se da preferencia a la que este mas a la derecha.\n",
    "    pass"
   ]
  },
  {
   "cell_type": "code",
   "execution_count": 28,
   "id": "70f54f55",
   "metadata": {},
   "outputs": [
    {
     "data": {
      "text/plain": [
       "['_Coche__enMarcha',\n",
       " '_Coche__ruedas',\n",
       " '__class__',\n",
       " '__delattr__',\n",
       " '__dict__',\n",
       " '__dir__',\n",
       " '__doc__',\n",
       " '__eq__',\n",
       " '__format__',\n",
       " '__ge__',\n",
       " '__getattribute__',\n",
       " '__gt__',\n",
       " '__hash__',\n",
       " '__init__',\n",
       " '__init_subclass__',\n",
       " '__le__',\n",
       " '__lt__',\n",
       " '__module__',\n",
       " '__ne__',\n",
       " '__new__',\n",
       " '__reduce__',\n",
       " '__reduce_ex__',\n",
       " '__repr__',\n",
       " '__setattr__',\n",
       " '__sizeof__',\n",
       " '__str__',\n",
       " '__subclasshook__',\n",
       " '__weakref__',\n",
       " 'anchoChasis',\n",
       " 'arrancar',\n",
       " 'caballito',\n",
       " 'estado',\n",
       " 'hcaballito',\n",
       " 'largoChasis']"
      ]
     },
     "execution_count": 28,
     "metadata": {},
     "output_type": "execute_result"
    }
   ],
   "source": [
    "# Find out the methods can be used on the object RedCircle\n",
    "\n",
    "dir(miMoto)"
   ]
  },
  {
   "cell_type": "markdown",
   "id": "c4743007",
   "metadata": {},
   "source": [
    "### Ejemplo Práctico"
   ]
  },
  {
   "cell_type": "markdown",
   "id": "fd19e7cc",
   "metadata": {},
   "source": [
    "You have been recruited by your friend, a linguistics enthusiast, to create a utility tool that can perform analysis on a given piece of text. Complete the class 'analysedText' with the following methods -\n",
    "\n",
    "    Constructor - Takes argument 'text',makes it lower case and removes all punctuation. Assume only the following punctuation is used - period (.), exclamation mark (!), comma (,) and question mark (?). Store the argument in \"fmtText\"\n",
    "    freqAll - returns a dictionary of all unique words in the text along with the number of their occurences.\n",
    "    freqOf - returns the frequency of the word passed in argument. \n",
    "\n",
    "The skeleton code has been given to you. Docstrings can be ignored for the purpose of the exercise.\n",
    "Hint: Some useful functions are replace(), lower(), split(), count() "
   ]
  },
  {
   "cell_type": "code",
   "execution_count": 31,
   "id": "0acfffef",
   "metadata": {},
   "outputs": [],
   "source": [
    "class analysedText(object):\n",
    "    \n",
    "    def __init__ (self, text):\n",
    "        self.text= text\n",
    "        text = text.replace('.','')\n",
    "        text = text.replace('!','')\n",
    "        text = text.replace(',','')\n",
    "        text = text.replace('?','')\n",
    "        text = text.lower()\n",
    "        self.fmtText = text\n",
    "    \n",
    "    def freqAll(self):        \n",
    "        words = self.fmtText.split(' ')\n",
    "        unique_words = set(words)\n",
    "        freqAll ={}\n",
    "        for i in unique_words:\n",
    "            freqAll[i]= words.count(i)\n",
    "        return freqAll\n",
    "            \n",
    "            \n",
    "\n",
    "    \n",
    "    def freqOf(self,word):\n",
    "        words = self.fmtText.split(' ')\n",
    "        return words.count(word)\n",
    "        "
   ]
  },
  {
   "cell_type": "code",
   "execution_count": 32,
   "id": "d123e83e",
   "metadata": {},
   "outputs": [
    {
     "name": "stdout",
     "output_type": "stream",
     "text": [
      "Constructor: \n",
      "Test Passed\n",
      "freqAll: \n",
      "Test Passed\n",
      "freqOf: \n",
      "Test Passed\n"
     ]
    }
   ],
   "source": [
    "import sys\n",
    "\n",
    "sampleMap = {'eirmod': 1,'sed': 1, 'amet': 2, 'diam': 5, 'consetetur': 1, 'labore': 1, 'tempor': 1, 'dolor': 1, 'magna': 2, 'et': 3, 'nonumy': 1, 'ipsum': 1, 'lorem': 2}\n",
    "\n",
    "def testMsg(passed):\n",
    "    if passed:\n",
    "       return 'Test Passed'\n",
    "    else :\n",
    "       return 'Test Failed'\n",
    "\n",
    "print(\"Constructor: \")\n",
    "try:\n",
    "    samplePassage = analysedText(\"Lorem ipsum dolor! diam amet, consetetur Lorem magna. sed diam nonumy eirmod tempor. diam et labore? et diam magna. et diam amet.\")\n",
    "    print(testMsg(samplePassage.fmtText == \"lorem ipsum dolor diam amet consetetur lorem magna sed diam nonumy eirmod tempor diam et labore et diam magna et diam amet\"))\n",
    "except:\n",
    "    print(\"Error detected. Recheck your function \" )\n",
    "print(\"freqAll: \")\n",
    "try:\n",
    "    wordMap = samplePassage.freqAll()\n",
    "    print(testMsg(wordMap==sampleMap))\n",
    "except:\n",
    "    print(\"Error detected. Recheck your function \" )\n",
    "print(\"freqOf: \")\n",
    "try:\n",
    "    passed = True\n",
    "    for word in sampleMap:\n",
    "        if samplePassage.freqOf(word) != sampleMap[word]:\n",
    "            passed = False\n",
    "            break\n",
    "    print(testMsg(passed))\n",
    "    \n",
    "except:\n",
    "    print(\"Error detected. Recheck your function  \" )\n",
    "    "
   ]
  },
  {
   "cell_type": "markdown",
   "id": "bc22a4e0",
   "metadata": {},
   "source": [
    "## Modulos"
   ]
  },
  {
   "cell_type": "markdown",
   "id": "e596570a",
   "metadata": {},
   "source": [
    "Solo es necesario crear un .py con las funciones definidas e importarlo con import"
   ]
  },
  {
   "cell_type": "markdown",
   "id": "bee18fcf",
   "metadata": {},
   "source": [
    "form modulo import *, lo que hace es dejar esas funciones como predefinas al llamarlas sin hacer referencia al modulo primero"
   ]
  },
  {
   "cell_type": "markdown",
   "id": "26a52eac",
   "metadata": {},
   "source": [
    "Los paquetes son carpetas en las cuales se almacenaran modulos relacionados entre si."
   ]
  },
  {
   "cell_type": "code",
   "execution_count": null,
   "id": "3e9247ba",
   "metadata": {},
   "outputs": [],
   "source": [
    "Se crea una carpeta con un archivo __init__.py"
   ]
  },
  {
   "cell_type": "markdown",
   "id": "63375927",
   "metadata": {},
   "source": [
    "## 10. Funciones Especiales"
   ]
  },
  {
   "cell_type": "markdown",
   "id": "7fa3c46a",
   "metadata": {},
   "source": [
    "### Filter"
   ]
  },
  {
   "cell_type": "markdown",
   "id": "4b06b929",
   "metadata": {},
   "source": [
    "Permite filtrar elementos de un elemento iterable que cumplan con el resultado de una funciòn"
   ]
  },
  {
   "cell_type": "code",
   "execution_count": 41,
   "id": "83f77786",
   "metadata": {},
   "outputs": [
    {
     "ename": "TypeError",
     "evalue": "'list' object is not callable",
     "output_type": "error",
     "traceback": [
      "\u001b[1;31m---------------------------------------------------------------------------\u001b[0m",
      "\u001b[1;31mTypeError\u001b[0m                                 Traceback (most recent call last)",
      "\u001b[1;32m<ipython-input-41-298e56fbbf40>\u001b[0m in \u001b[0;36m<module>\u001b[1;34m\u001b[0m\n\u001b[0;32m      5\u001b[0m \u001b[0mnumeros\u001b[0m \u001b[1;33m=\u001b[0m \u001b[1;33m[\u001b[0m\u001b[1;36m1\u001b[0m\u001b[1;33m,\u001b[0m\u001b[1;36m2\u001b[0m\u001b[1;33m,\u001b[0m\u001b[1;36m3\u001b[0m\u001b[1;33m,\u001b[0m\u001b[1;36m4\u001b[0m\u001b[1;33m,\u001b[0m\u001b[1;36m5\u001b[0m\u001b[1;33m]\u001b[0m\u001b[1;33m\u001b[0m\u001b[1;33m\u001b[0m\u001b[0m\n\u001b[0;32m      6\u001b[0m \u001b[0mfiltered\u001b[0m \u001b[1;33m=\u001b[0m \u001b[0mfilter\u001b[0m\u001b[1;33m(\u001b[0m\u001b[0mnumero_par\u001b[0m\u001b[1;33m,\u001b[0m\u001b[0mnumeros\u001b[0m\u001b[1;33m)\u001b[0m\u001b[1;33m\u001b[0m\u001b[1;33m\u001b[0m\u001b[0m\n\u001b[1;32m----> 7\u001b[1;33m \u001b[0mlist\u001b[0m\u001b[1;33m(\u001b[0m\u001b[0mfiltered\u001b[0m\u001b[1;33m)\u001b[0m\u001b[1;33m\u001b[0m\u001b[1;33m\u001b[0m\u001b[0m\n\u001b[0m",
      "\u001b[1;31mTypeError\u001b[0m: 'list' object is not callable"
     ]
    }
   ],
   "source": [
    "def numero_par(num):\n",
    "    if num % 2==0:\n",
    "        return True\n",
    "\n",
    "numeros = [1,2,3,4,5]\n",
    "filtered = filter(numero_par,numeros)\n",
    "list(filtered)"
   ]
  },
  {
   "cell_type": "markdown",
   "id": "320b4c41",
   "metadata": {},
   "source": [
    "o con lambda para no tener que definir la funcion"
   ]
  },
  {
   "cell_type": "code",
   "execution_count": 37,
   "id": "519ceaed",
   "metadata": {},
   "outputs": [
    {
     "ename": "TypeError",
     "evalue": "'list' object is not callable",
     "output_type": "error",
     "traceback": [
      "\u001b[1;31m---------------------------------------------------------------------------\u001b[0m",
      "\u001b[1;31mTypeError\u001b[0m                                 Traceback (most recent call last)",
      "\u001b[1;32m<ipython-input-37-a3e94e3a4a8e>\u001b[0m in \u001b[0;36m<module>\u001b[1;34m\u001b[0m\n\u001b[1;32m----> 1\u001b[1;33m \u001b[0mprint\u001b[0m\u001b[1;33m(\u001b[0m\u001b[0mlist\u001b[0m\u001b[1;33m(\u001b[0m\u001b[0mfilter\u001b[0m\u001b[1;33m(\u001b[0m\u001b[1;32mlambda\u001b[0m \u001b[0mnumero_par\u001b[0m\u001b[1;33m:\u001b[0m \u001b[0mnumero_par\u001b[0m \u001b[1;33m%\u001b[0m \u001b[1;36m2\u001b[0m\u001b[1;33m==\u001b[0m\u001b[1;36m0\u001b[0m\u001b[1;33m,\u001b[0m\u001b[0mnumeros\u001b[0m\u001b[1;33m)\u001b[0m\u001b[1;33m)\u001b[0m\u001b[1;33m)\u001b[0m\u001b[1;33m\u001b[0m\u001b[1;33m\u001b[0m\u001b[0m\n\u001b[0m",
      "\u001b[1;31mTypeError\u001b[0m: 'list' object is not callable"
     ]
    }
   ],
   "source": [
    "print(list(filter(lambda numero_par: numero_par % 2==0,numeros)))"
   ]
  },
  {
   "cell_type": "markdown",
   "id": "dfcb04b7",
   "metadata": {},
   "source": [
    "## 11. Readfiles"
   ]
  },
  {
   "cell_type": "markdown",
   "id": "3c419301",
   "metadata": {},
   "source": [
    "Your local university's Raptors fan club maintains a register of its active members on a .txt document. Every month they update the file by removing the members who are not active. You have been tasked with automating this with your Python skills.\n",
    "Given the file currentMem, Remove each member with a 'no' in their Active coloumn. Keep track of each of the removed members and append them to the exMem file. Make sure the format of the original files in preserved. (Hint: Do this by reading/writing whole lines and ensuring the header remains )\n",
    "Run the code block below prior to starting the exercise. The skeleton code has been provided for you, Edit only the cleanFiles function."
   ]
  },
  {
   "cell_type": "code",
   "execution_count": null,
   "id": "bde1db3b",
   "metadata": {},
   "outputs": [],
   "source": [
    "#Run this prior to starting the exercise\n",
    "from random import randint as rnd\n",
    "\n",
    "memReg = 'members.txt'\n",
    "exReg = 'inactive.txt'\n",
    "fee =('yes','no')\n",
    "\n",
    "def genFiles(current,old):\n",
    "    with open(current,'w+') as writefile: \n",
    "        writefile.write('Membership No  Date Joined  Active  \\n')\n",
    "        data = \"{:^13}  {:<11}  {:<6}\\n\"\n",
    "\n",
    "        for rowno in range(20):\n",
    "            date = str(rnd(2015,2020))+ '-' + str(rnd(1,12))+'-'+str(rnd(1,25))\n",
    "            writefile.write(data.format(rnd(10000,99999),date,fee[rnd(0,1)]))\n",
    "\n",
    "\n",
    "    with open(old,'w+') as writefile: \n",
    "        writefile.write('Membership No  Date Joined  Active  \\n')\n",
    "        data = \"{:^13}  {:<11}  {:<6}\\n\"\n",
    "        for rowno in range(3):\n",
    "            date = str(rnd(2015,2020))+ '-' + str(rnd(1,12))+'-'+str(rnd(1,25))\n",
    "            writefile.write(data.format(rnd(10000,99999),date,fee[1]))\n",
    "\n",
    "\n",
    "genFiles(memReg,exReg)\n"
   ]
  },
  {
   "cell_type": "code",
   "execution_count": null,
   "id": "a4b7963b",
   "metadata": {},
   "outputs": [],
   "source": [
    "def cleanFiles(currentMem,exMem):\n",
    "    '''\n",
    "    currentMem: File containing list of current members\n",
    "    exMem: File containing list of old members\n",
    "    \n",
    "    Removes all rows from currentMem containing 'no' and appends them to exMem\n",
    "    '''\n",
    "    \n",
    "    with open(currentMem, \"r\") as f:\n",
    "        f.seek(0)\n",
    "        lines = f.readlines()\n",
    "        \n",
    "        \n",
    "    with open(exMem,'a') as extFile:\n",
    "        extFile.seek(0)\n",
    "        with open(currentMem,'w') as currentFile:\n",
    "            for line in lines:\n",
    "                if 'no' in line:\n",
    "                    extFile.write(line)\n",
    "                else:\n",
    "                    currentFile.write(line)\n",
    "                    \n",
    "\n",
    "\n",
    "# Code to help you see the files\n",
    "# Leave as is\n",
    "memReg = 'members.txt'\n",
    "exReg = 'inactive.txt'\n",
    "cleanFiles(memReg,exReg)\n",
    "\n",
    "\n",
    "headers = \"Membership No  Date Joined  Active  \\n\"\n",
    "with open(memReg,'r') as readFile:\n",
    "    print(\"Active Members: \\n\\n\")\n",
    "    print(readFile.read())\n",
    "    \n",
    "with open(exReg,'r') as readFile:\n",
    "    print(\"Inactive Members: \\n\\n\")\n",
    "    print(readFile.read())\n",
    "                \n",
    "    "
   ]
  },
  {
   "cell_type": "markdown",
   "id": "2791470e",
   "metadata": {},
   "source": [
    "## 11. Pandas"
   ]
  },
  {
   "cell_type": "markdown",
   "id": "7f68d23f",
   "metadata": {},
   "source": [
    "#### **Indices**  \n",
    "Seleccionar por indices:  \n",
    "**ix** funciona tanto con nombres como con indices  \n",
    "**iloc** funciona solo con indices o booleano.   \n",
    "**loc** solo funciona con nombres o boolean, aunque funciona si los indices son numeros."
   ]
  },
  {
   "cell_type": "code",
   "execution_count": 42,
   "id": "f42c8710",
   "metadata": {},
   "outputs": [
    {
     "name": "stdout",
     "output_type": "stream",
     "text": [
      "Slicing only rows(till index 4):\n"
     ]
    },
    {
     "ename": "NameError",
     "evalue": "name 'data' is not defined",
     "output_type": "error",
     "traceback": [
      "\u001b[1;31m---------------------------------------------------------------------------\u001b[0m",
      "\u001b[1;31mNameError\u001b[0m                                 Traceback (most recent call last)",
      "\u001b[1;32m<ipython-input-42-15f6d6ce7374>\u001b[0m in \u001b[0;36m<module>\u001b[1;34m\u001b[0m\n\u001b[0;32m      1\u001b[0m \u001b[1;31m# Integer slicing\u001b[0m\u001b[1;33m\u001b[0m\u001b[1;33m\u001b[0m\u001b[1;33m\u001b[0m\u001b[0m\n\u001b[0;32m      2\u001b[0m \u001b[0mprint\u001b[0m\u001b[1;33m(\u001b[0m\u001b[1;34m\"Slicing only rows(till index 4):\"\u001b[0m\u001b[1;33m)\u001b[0m\u001b[1;33m\u001b[0m\u001b[1;33m\u001b[0m\u001b[0m\n\u001b[1;32m----> 3\u001b[1;33m \u001b[0mx1\u001b[0m \u001b[1;33m=\u001b[0m \u001b[0mdata\u001b[0m\u001b[1;33m.\u001b[0m\u001b[0mix\u001b[0m\u001b[1;33m[\u001b[0m\u001b[1;33m:\u001b[0m\u001b[1;36m4\u001b[0m\u001b[1;33m,\u001b[0m \u001b[1;33m]\u001b[0m\u001b[1;33m\u001b[0m\u001b[1;33m\u001b[0m\u001b[0m\n\u001b[0m\u001b[0;32m      4\u001b[0m \u001b[0mprint\u001b[0m\u001b[1;33m(\u001b[0m\u001b[1;34m\"Slicing rows and columns(rows=4, col 1-4, excluding 4):\"\u001b[0m\u001b[1;33m)\u001b[0m\u001b[1;33m\u001b[0m\u001b[1;33m\u001b[0m\u001b[0m\n\u001b[0;32m      5\u001b[0m \u001b[0mx2\u001b[0m \u001b[1;33m=\u001b[0m \u001b[0mdata\u001b[0m\u001b[1;33m.\u001b[0m\u001b[0mix\u001b[0m\u001b[1;33m[\u001b[0m\u001b[1;33m:\u001b[0m\u001b[1;36m4\u001b[0m\u001b[1;33m,\u001b[0m \u001b[1;36m1\u001b[0m\u001b[1;33m:\u001b[0m\u001b[1;36m4\u001b[0m\u001b[1;33m]\u001b[0m\u001b[1;33m\u001b[0m\u001b[1;33m\u001b[0m\u001b[0m\n",
      "\u001b[1;31mNameError\u001b[0m: name 'data' is not defined"
     ]
    }
   ],
   "source": [
    "# Integer slicing\n",
    "print(\"Slicing only rows(till index 4):\")\n",
    "x1 = data.ix[:4, ]\n",
    "print(\"Slicing rows and columns(rows=4, col 1-4, excluding 4):\")\n",
    "x2 = data.ix[:4, 1:4]\n",
    "# Index slicing on Salary column\n",
    "x2 = data.ix[10:20, 'Salary']"
   ]
  },
  {
   "cell_type": "code",
   "execution_count": null,
   "id": "d6ddb4f2",
   "metadata": {},
   "outputs": [],
   "source": [
    "df.iloc[[0, 2], [1, 3]]"
   ]
  },
  {
   "cell_type": "markdown",
   "id": "aea61885",
   "metadata": {},
   "source": [
    "#### Headers"
   ]
  },
  {
   "cell_type": "code",
   "execution_count": 1,
   "id": "8c3eee59",
   "metadata": {},
   "outputs": [],
   "source": [
    "filename = \"https://cf-courses-data.s3.us.cloud-object-storage.appdomain.cloud/IBMDeveloperSkillsNetwork-DA0101EN-SkillsNetwork/labs/Data%20files/auto.csv\""
   ]
  },
  {
   "cell_type": "code",
   "execution_count": 2,
   "id": "1c7ac219",
   "metadata": {},
   "outputs": [],
   "source": [
    "headers = [\"symboling\",\"normalized-losses\",\"make\",\"fuel-type\",\"aspiration\", \"num-of-doors\",\"body-style\",\n",
    "         \"drive-wheels\",\"engine-location\",\"wheel-base\", \"length\",\"width\",\"height\",\"curb-weight\",\"engine-type\",\n",
    "         \"num-of-cylinders\", \"engine-size\",\"fuel-system\",\"bore\",\"stroke\",\"compression-ratio\",\"horsepower\",\n",
    "         \"peak-rpm\",\"city-mpg\",\"highway-mpg\",\"price\"]"
   ]
  },
  {
   "cell_type": "code",
   "execution_count": 4,
   "id": "944964ef",
   "metadata": {},
   "outputs": [],
   "source": [
    "import pandas as pd\n",
    "df = pd.read_csv(filename, names = headers)"
   ]
  },
  {
   "cell_type": "markdown",
   "id": "34f08f48",
   "metadata": {},
   "source": [
    "#### Cambios de tipo de dato"
   ]
  },
  {
   "cell_type": "code",
   "execution_count": null,
   "id": "7d579697",
   "metadata": {},
   "outputs": [],
   "source": [
    "records_df = df.astype({'PrecioAct': float})"
   ]
  },
  {
   "cell_type": "code",
   "execution_count": null,
   "id": "e2f43c1a",
   "metadata": {},
   "outputs": [],
   "source": [
    "dtype0= {'PrecioAct': 'float','Estado': 'object','TSStatus': 'object','SLAct': 'object',\n",
    "         'EstadoB': 'object','PrecioEntrada': 'float', 'FechaEntrada': 'str','Cumple1': 'str', \n",
    "         'Cumple2': 'str','Cumple3': 'str', 'Cumple4': 'str','Cumple5': 'str','CumpleBE': 'str',\n",
    "         'Resultado': 'str','Detalle': 'str'}\n",
    "data= data.astype(dtype0)"
   ]
  },
  {
   "cell_type": "markdown",
   "id": "431d900b",
   "metadata": {},
   "source": [
    "#### Revisar NAs"
   ]
  },
  {
   "cell_type": "code",
   "execution_count": 6,
   "id": "96feb191",
   "metadata": {},
   "outputs": [
    {
     "data": {
      "text/html": [
       "<div>\n",
       "<style scoped>\n",
       "    .dataframe tbody tr th:only-of-type {\n",
       "        vertical-align: middle;\n",
       "    }\n",
       "\n",
       "    .dataframe tbody tr th {\n",
       "        vertical-align: top;\n",
       "    }\n",
       "\n",
       "    .dataframe thead th {\n",
       "        text-align: right;\n",
       "    }\n",
       "</style>\n",
       "<table border=\"1\" class=\"dataframe\">\n",
       "  <thead>\n",
       "    <tr style=\"text-align: right;\">\n",
       "      <th></th>\n",
       "      <th>symboling</th>\n",
       "      <th>normalized-losses</th>\n",
       "      <th>make</th>\n",
       "      <th>fuel-type</th>\n",
       "      <th>aspiration</th>\n",
       "      <th>num-of-doors</th>\n",
       "      <th>body-style</th>\n",
       "      <th>drive-wheels</th>\n",
       "      <th>engine-location</th>\n",
       "      <th>wheel-base</th>\n",
       "      <th>...</th>\n",
       "      <th>engine-size</th>\n",
       "      <th>fuel-system</th>\n",
       "      <th>bore</th>\n",
       "      <th>stroke</th>\n",
       "      <th>compression-ratio</th>\n",
       "      <th>horsepower</th>\n",
       "      <th>peak-rpm</th>\n",
       "      <th>city-mpg</th>\n",
       "      <th>highway-mpg</th>\n",
       "      <th>price</th>\n",
       "    </tr>\n",
       "  </thead>\n",
       "  <tbody>\n",
       "    <tr>\n",
       "      <th>0</th>\n",
       "      <td>False</td>\n",
       "      <td>False</td>\n",
       "      <td>False</td>\n",
       "      <td>False</td>\n",
       "      <td>False</td>\n",
       "      <td>False</td>\n",
       "      <td>False</td>\n",
       "      <td>False</td>\n",
       "      <td>False</td>\n",
       "      <td>False</td>\n",
       "      <td>...</td>\n",
       "      <td>False</td>\n",
       "      <td>False</td>\n",
       "      <td>False</td>\n",
       "      <td>False</td>\n",
       "      <td>False</td>\n",
       "      <td>False</td>\n",
       "      <td>False</td>\n",
       "      <td>False</td>\n",
       "      <td>False</td>\n",
       "      <td>False</td>\n",
       "    </tr>\n",
       "    <tr>\n",
       "      <th>1</th>\n",
       "      <td>False</td>\n",
       "      <td>False</td>\n",
       "      <td>False</td>\n",
       "      <td>False</td>\n",
       "      <td>False</td>\n",
       "      <td>False</td>\n",
       "      <td>False</td>\n",
       "      <td>False</td>\n",
       "      <td>False</td>\n",
       "      <td>False</td>\n",
       "      <td>...</td>\n",
       "      <td>False</td>\n",
       "      <td>False</td>\n",
       "      <td>False</td>\n",
       "      <td>False</td>\n",
       "      <td>False</td>\n",
       "      <td>False</td>\n",
       "      <td>False</td>\n",
       "      <td>False</td>\n",
       "      <td>False</td>\n",
       "      <td>False</td>\n",
       "    </tr>\n",
       "    <tr>\n",
       "      <th>2</th>\n",
       "      <td>False</td>\n",
       "      <td>False</td>\n",
       "      <td>False</td>\n",
       "      <td>False</td>\n",
       "      <td>False</td>\n",
       "      <td>False</td>\n",
       "      <td>False</td>\n",
       "      <td>False</td>\n",
       "      <td>False</td>\n",
       "      <td>False</td>\n",
       "      <td>...</td>\n",
       "      <td>False</td>\n",
       "      <td>False</td>\n",
       "      <td>False</td>\n",
       "      <td>False</td>\n",
       "      <td>False</td>\n",
       "      <td>False</td>\n",
       "      <td>False</td>\n",
       "      <td>False</td>\n",
       "      <td>False</td>\n",
       "      <td>False</td>\n",
       "    </tr>\n",
       "    <tr>\n",
       "      <th>3</th>\n",
       "      <td>False</td>\n",
       "      <td>False</td>\n",
       "      <td>False</td>\n",
       "      <td>False</td>\n",
       "      <td>False</td>\n",
       "      <td>False</td>\n",
       "      <td>False</td>\n",
       "      <td>False</td>\n",
       "      <td>False</td>\n",
       "      <td>False</td>\n",
       "      <td>...</td>\n",
       "      <td>False</td>\n",
       "      <td>False</td>\n",
       "      <td>False</td>\n",
       "      <td>False</td>\n",
       "      <td>False</td>\n",
       "      <td>False</td>\n",
       "      <td>False</td>\n",
       "      <td>False</td>\n",
       "      <td>False</td>\n",
       "      <td>False</td>\n",
       "    </tr>\n",
       "    <tr>\n",
       "      <th>4</th>\n",
       "      <td>False</td>\n",
       "      <td>False</td>\n",
       "      <td>False</td>\n",
       "      <td>False</td>\n",
       "      <td>False</td>\n",
       "      <td>False</td>\n",
       "      <td>False</td>\n",
       "      <td>False</td>\n",
       "      <td>False</td>\n",
       "      <td>False</td>\n",
       "      <td>...</td>\n",
       "      <td>False</td>\n",
       "      <td>False</td>\n",
       "      <td>False</td>\n",
       "      <td>False</td>\n",
       "      <td>False</td>\n",
       "      <td>False</td>\n",
       "      <td>False</td>\n",
       "      <td>False</td>\n",
       "      <td>False</td>\n",
       "      <td>False</td>\n",
       "    </tr>\n",
       "  </tbody>\n",
       "</table>\n",
       "<p>5 rows × 26 columns</p>\n",
       "</div>"
      ],
      "text/plain": [
       "   symboling  normalized-losses   make  fuel-type  aspiration  num-of-doors  \\\n",
       "0      False              False  False      False       False         False   \n",
       "1      False              False  False      False       False         False   \n",
       "2      False              False  False      False       False         False   \n",
       "3      False              False  False      False       False         False   \n",
       "4      False              False  False      False       False         False   \n",
       "\n",
       "   body-style  drive-wheels  engine-location  wheel-base  ...  engine-size  \\\n",
       "0       False         False            False       False  ...        False   \n",
       "1       False         False            False       False  ...        False   \n",
       "2       False         False            False       False  ...        False   \n",
       "3       False         False            False       False  ...        False   \n",
       "4       False         False            False       False  ...        False   \n",
       "\n",
       "   fuel-system   bore  stroke  compression-ratio  horsepower  peak-rpm  \\\n",
       "0        False  False   False              False       False     False   \n",
       "1        False  False   False              False       False     False   \n",
       "2        False  False   False              False       False     False   \n",
       "3        False  False   False              False       False     False   \n",
       "4        False  False   False              False       False     False   \n",
       "\n",
       "   city-mpg  highway-mpg  price  \n",
       "0     False        False  False  \n",
       "1     False        False  False  \n",
       "2     False        False  False  \n",
       "3     False        False  False  \n",
       "4     False        False  False  \n",
       "\n",
       "[5 rows x 26 columns]"
      ]
     },
     "execution_count": 6,
     "metadata": {},
     "output_type": "execute_result"
    }
   ],
   "source": [
    "missing_data = df.isnull()\n",
    "missing_data.head(5)"
   ]
  },
  {
   "cell_type": "code",
   "execution_count": 7,
   "id": "81bcc2bd",
   "metadata": {},
   "outputs": [
    {
     "name": "stdout",
     "output_type": "stream",
     "text": [
      "symboling\n",
      "False    205\n",
      "Name: symboling, dtype: int64\n",
      "\n",
      "normalized-losses\n",
      "False    205\n",
      "Name: normalized-losses, dtype: int64\n",
      "\n",
      "make\n",
      "False    205\n",
      "Name: make, dtype: int64\n",
      "\n",
      "fuel-type\n",
      "False    205\n",
      "Name: fuel-type, dtype: int64\n",
      "\n",
      "aspiration\n",
      "False    205\n",
      "Name: aspiration, dtype: int64\n",
      "\n",
      "num-of-doors\n",
      "False    205\n",
      "Name: num-of-doors, dtype: int64\n",
      "\n",
      "body-style\n",
      "False    205\n",
      "Name: body-style, dtype: int64\n",
      "\n",
      "drive-wheels\n",
      "False    205\n",
      "Name: drive-wheels, dtype: int64\n",
      "\n",
      "engine-location\n",
      "False    205\n",
      "Name: engine-location, dtype: int64\n",
      "\n",
      "wheel-base\n",
      "False    205\n",
      "Name: wheel-base, dtype: int64\n",
      "\n",
      "length\n",
      "False    205\n",
      "Name: length, dtype: int64\n",
      "\n",
      "width\n",
      "False    205\n",
      "Name: width, dtype: int64\n",
      "\n",
      "height\n",
      "False    205\n",
      "Name: height, dtype: int64\n",
      "\n",
      "curb-weight\n",
      "False    205\n",
      "Name: curb-weight, dtype: int64\n",
      "\n",
      "engine-type\n",
      "False    205\n",
      "Name: engine-type, dtype: int64\n",
      "\n",
      "num-of-cylinders\n",
      "False    205\n",
      "Name: num-of-cylinders, dtype: int64\n",
      "\n",
      "engine-size\n",
      "False    205\n",
      "Name: engine-size, dtype: int64\n",
      "\n",
      "fuel-system\n",
      "False    205\n",
      "Name: fuel-system, dtype: int64\n",
      "\n",
      "bore\n",
      "False    205\n",
      "Name: bore, dtype: int64\n",
      "\n",
      "stroke\n",
      "False    205\n",
      "Name: stroke, dtype: int64\n",
      "\n",
      "compression-ratio\n",
      "False    205\n",
      "Name: compression-ratio, dtype: int64\n",
      "\n",
      "horsepower\n",
      "False    205\n",
      "Name: horsepower, dtype: int64\n",
      "\n",
      "peak-rpm\n",
      "False    205\n",
      "Name: peak-rpm, dtype: int64\n",
      "\n",
      "city-mpg\n",
      "False    205\n",
      "Name: city-mpg, dtype: int64\n",
      "\n",
      "highway-mpg\n",
      "False    205\n",
      "Name: highway-mpg, dtype: int64\n",
      "\n",
      "price\n",
      "False    205\n",
      "Name: price, dtype: int64\n",
      "\n"
     ]
    }
   ],
   "source": [
    "for column in missing_data.columns.values.tolist():\n",
    "    print(column)\n",
    "    print (missing_data[column].value_counts())\n",
    "    print(\"\")    "
   ]
  },
  {
   "cell_type": "markdown",
   "id": "1480ed81",
   "metadata": {},
   "source": [
    "#### Conteo por grupo"
   ]
  },
  {
   "cell_type": "code",
   "execution_count": 8,
   "id": "6aa74452",
   "metadata": {},
   "outputs": [
    {
     "data": {
      "text/plain": [
       "four    114\n",
       "two      89\n",
       "?         2\n",
       "Name: num-of-doors, dtype: int64"
      ]
     },
     "execution_count": 8,
     "metadata": {},
     "output_type": "execute_result"
    }
   ],
   "source": [
    "df['num-of-doors'].value_counts()"
   ]
  },
  {
   "cell_type": "markdown",
   "id": "941f2144",
   "metadata": {},
   "source": [
    "#### Convertir una columna numerica en categorica"
   ]
  },
  {
   "cell_type": "code",
   "execution_count": 14,
   "id": "b07ce0ec",
   "metadata": {},
   "outputs": [],
   "source": [
    "df.replace(\"?\", np.nan, inplace = True)\n",
    "df.dropna(axis=0, inplace=True)\n",
    "df[\"horsepower\"]=df[\"horsepower\"].astype(int, copy=True)"
   ]
  },
  {
   "cell_type": "code",
   "execution_count": 15,
   "id": "8cd0ed39",
   "metadata": {},
   "outputs": [
    {
     "data": {
      "text/plain": [
       "array([ 48.        ,  98.66666667, 149.33333333, 200.        ])"
      ]
     },
     "execution_count": 15,
     "metadata": {},
     "output_type": "execute_result"
    }
   ],
   "source": [
    "import numpy as np\n",
    "bins = np.linspace(min(df[\"horsepower\"]), max(df[\"horsepower\"]), 4)\n",
    "bins"
   ]
  },
  {
   "cell_type": "code",
   "execution_count": 16,
   "id": "2067f2f9",
   "metadata": {},
   "outputs": [],
   "source": [
    "group_names = ['Low', 'Medium', 'High']"
   ]
  },
  {
   "cell_type": "code",
   "execution_count": 17,
   "id": "111d153e",
   "metadata": {},
   "outputs": [
    {
     "data": {
      "text/html": [
       "<div>\n",
       "<style scoped>\n",
       "    .dataframe tbody tr th:only-of-type {\n",
       "        vertical-align: middle;\n",
       "    }\n",
       "\n",
       "    .dataframe tbody tr th {\n",
       "        vertical-align: top;\n",
       "    }\n",
       "\n",
       "    .dataframe thead th {\n",
       "        text-align: right;\n",
       "    }\n",
       "</style>\n",
       "<table border=\"1\" class=\"dataframe\">\n",
       "  <thead>\n",
       "    <tr style=\"text-align: right;\">\n",
       "      <th></th>\n",
       "      <th>horsepower</th>\n",
       "      <th>horsepower-binned</th>\n",
       "    </tr>\n",
       "  </thead>\n",
       "  <tbody>\n",
       "    <tr>\n",
       "      <th>3</th>\n",
       "      <td>102</td>\n",
       "      <td>Medium</td>\n",
       "    </tr>\n",
       "    <tr>\n",
       "      <th>4</th>\n",
       "      <td>115</td>\n",
       "      <td>Medium</td>\n",
       "    </tr>\n",
       "    <tr>\n",
       "      <th>6</th>\n",
       "      <td>110</td>\n",
       "      <td>Medium</td>\n",
       "    </tr>\n",
       "    <tr>\n",
       "      <th>8</th>\n",
       "      <td>140</td>\n",
       "      <td>Medium</td>\n",
       "    </tr>\n",
       "    <tr>\n",
       "      <th>10</th>\n",
       "      <td>101</td>\n",
       "      <td>Medium</td>\n",
       "    </tr>\n",
       "    <tr>\n",
       "      <th>11</th>\n",
       "      <td>101</td>\n",
       "      <td>Medium</td>\n",
       "    </tr>\n",
       "    <tr>\n",
       "      <th>12</th>\n",
       "      <td>121</td>\n",
       "      <td>Medium</td>\n",
       "    </tr>\n",
       "    <tr>\n",
       "      <th>13</th>\n",
       "      <td>121</td>\n",
       "      <td>Medium</td>\n",
       "    </tr>\n",
       "    <tr>\n",
       "      <th>18</th>\n",
       "      <td>48</td>\n",
       "      <td>Low</td>\n",
       "    </tr>\n",
       "    <tr>\n",
       "      <th>19</th>\n",
       "      <td>70</td>\n",
       "      <td>Low</td>\n",
       "    </tr>\n",
       "    <tr>\n",
       "      <th>20</th>\n",
       "      <td>70</td>\n",
       "      <td>Low</td>\n",
       "    </tr>\n",
       "    <tr>\n",
       "      <th>21</th>\n",
       "      <td>68</td>\n",
       "      <td>Low</td>\n",
       "    </tr>\n",
       "    <tr>\n",
       "      <th>22</th>\n",
       "      <td>68</td>\n",
       "      <td>Low</td>\n",
       "    </tr>\n",
       "    <tr>\n",
       "      <th>23</th>\n",
       "      <td>102</td>\n",
       "      <td>Medium</td>\n",
       "    </tr>\n",
       "    <tr>\n",
       "      <th>24</th>\n",
       "      <td>68</td>\n",
       "      <td>Low</td>\n",
       "    </tr>\n",
       "    <tr>\n",
       "      <th>25</th>\n",
       "      <td>68</td>\n",
       "      <td>Low</td>\n",
       "    </tr>\n",
       "    <tr>\n",
       "      <th>26</th>\n",
       "      <td>68</td>\n",
       "      <td>Low</td>\n",
       "    </tr>\n",
       "    <tr>\n",
       "      <th>28</th>\n",
       "      <td>88</td>\n",
       "      <td>Low</td>\n",
       "    </tr>\n",
       "    <tr>\n",
       "      <th>29</th>\n",
       "      <td>145</td>\n",
       "      <td>Medium</td>\n",
       "    </tr>\n",
       "    <tr>\n",
       "      <th>30</th>\n",
       "      <td>58</td>\n",
       "      <td>Low</td>\n",
       "    </tr>\n",
       "  </tbody>\n",
       "</table>\n",
       "</div>"
      ],
      "text/plain": [
       "    horsepower horsepower-binned\n",
       "3          102            Medium\n",
       "4          115            Medium\n",
       "6          110            Medium\n",
       "8          140            Medium\n",
       "10         101            Medium\n",
       "11         101            Medium\n",
       "12         121            Medium\n",
       "13         121            Medium\n",
       "18          48               Low\n",
       "19          70               Low\n",
       "20          70               Low\n",
       "21          68               Low\n",
       "22          68               Low\n",
       "23         102            Medium\n",
       "24          68               Low\n",
       "25          68               Low\n",
       "26          68               Low\n",
       "28          88               Low\n",
       "29         145            Medium\n",
       "30          58               Low"
      ]
     },
     "execution_count": 17,
     "metadata": {},
     "output_type": "execute_result"
    }
   ],
   "source": [
    "df['horsepower-binned'] = pd.cut(df['horsepower'], bins, labels=group_names, include_lowest=True )\n",
    "df[['horsepower','horsepower-binned']].head(20)"
   ]
  },
  {
   "cell_type": "code",
   "execution_count": 18,
   "id": "84474a4b",
   "metadata": {},
   "outputs": [
    {
     "data": {
      "text/plain": [
       "Low       96\n",
       "Medium    47\n",
       "High      16\n",
       "Name: horsepower-binned, dtype: int64"
      ]
     },
     "execution_count": 18,
     "metadata": {},
     "output_type": "execute_result"
    }
   ],
   "source": [
    "df[\"horsepower-binned\"].value_counts()"
   ]
  },
  {
   "cell_type": "code",
   "execution_count": 19,
   "id": "86180fc1",
   "metadata": {},
   "outputs": [
    {
     "data": {
      "text/plain": [
       "Text(0.5, 1.0, 'horsepower bins')"
      ]
     },
     "execution_count": 19,
     "metadata": {},
     "output_type": "execute_result"
    },
    {
     "data": {
      "image/png": "[encoded data removed]",
      "text/plain": [
       "<Figure size 432x288 with 1 Axes>"
      ]
     },
     "metadata": {
      "needs_background": "light"
     },
     "output_type": "display_data"
    }
   ],
   "source": [
    "%matplotlib inline\n",
    "import matplotlib as plt\n",
    "from matplotlib import pyplot\n",
    "pyplot.bar(group_names, df[\"horsepower-binned\"].value_counts())\n",
    "\n",
    "# set x/y labels and plot title\n",
    "plt.pyplot.xlabel(\"horsepower\")\n",
    "plt.pyplot.ylabel(\"count\")\n",
    "plt.pyplot.title(\"horsepower bins\")"
   ]
  },
  {
   "cell_type": "markdown",
   "id": "de4d698f",
   "metadata": {},
   "source": [
    "#### Hot encoding"
   ]
  },
  {
   "cell_type": "code",
   "execution_count": 20,
   "id": "e366a597",
   "metadata": {},
   "outputs": [
    {
     "data": {
      "text/html": [
       "<div>\n",
       "<style scoped>\n",
       "    .dataframe tbody tr th:only-of-type {\n",
       "        vertical-align: middle;\n",
       "    }\n",
       "\n",
       "    .dataframe tbody tr th {\n",
       "        vertical-align: top;\n",
       "    }\n",
       "\n",
       "    .dataframe thead th {\n",
       "        text-align: right;\n",
       "    }\n",
       "</style>\n",
       "<table border=\"1\" class=\"dataframe\">\n",
       "  <thead>\n",
       "    <tr style=\"text-align: right;\">\n",
       "      <th></th>\n",
       "      <th>diesel</th>\n",
       "      <th>gas</th>\n",
       "    </tr>\n",
       "  </thead>\n",
       "  <tbody>\n",
       "    <tr>\n",
       "      <th>3</th>\n",
       "      <td>0</td>\n",
       "      <td>1</td>\n",
       "    </tr>\n",
       "    <tr>\n",
       "      <th>4</th>\n",
       "      <td>0</td>\n",
       "      <td>1</td>\n",
       "    </tr>\n",
       "    <tr>\n",
       "      <th>6</th>\n",
       "      <td>0</td>\n",
       "      <td>1</td>\n",
       "    </tr>\n",
       "    <tr>\n",
       "      <th>8</th>\n",
       "      <td>0</td>\n",
       "      <td>1</td>\n",
       "    </tr>\n",
       "    <tr>\n",
       "      <th>10</th>\n",
       "      <td>0</td>\n",
       "      <td>1</td>\n",
       "    </tr>\n",
       "  </tbody>\n",
       "</table>\n",
       "</div>"
      ],
      "text/plain": [
       "    diesel  gas\n",
       "3        0    1\n",
       "4        0    1\n",
       "6        0    1\n",
       "8        0    1\n",
       "10       0    1"
      ]
     },
     "execution_count": 20,
     "metadata": {},
     "output_type": "execute_result"
    }
   ],
   "source": [
    "dummy_variable_1 = pd.get_dummies(df[\"fuel-type\"])\n",
    "dummy_variable_1.head()"
   ]
  },
  {
   "cell_type": "code",
   "execution_count": 21,
   "id": "4f2076bc",
   "metadata": {},
   "outputs": [
    {
     "data": {
      "text/html": [
       "<div>\n",
       "<style scoped>\n",
       "    .dataframe tbody tr th:only-of-type {\n",
       "        vertical-align: middle;\n",
       "    }\n",
       "\n",
       "    .dataframe tbody tr th {\n",
       "        vertical-align: top;\n",
       "    }\n",
       "\n",
       "    .dataframe thead th {\n",
       "        text-align: right;\n",
       "    }\n",
       "</style>\n",
       "<table border=\"1\" class=\"dataframe\">\n",
       "  <thead>\n",
       "    <tr style=\"text-align: right;\">\n",
       "      <th></th>\n",
       "      <th>fuel-type-diesel</th>\n",
       "      <th>fuel-type-gas</th>\n",
       "    </tr>\n",
       "  </thead>\n",
       "  <tbody>\n",
       "    <tr>\n",
       "      <th>3</th>\n",
       "      <td>0</td>\n",
       "      <td>1</td>\n",
       "    </tr>\n",
       "    <tr>\n",
       "      <th>4</th>\n",
       "      <td>0</td>\n",
       "      <td>1</td>\n",
       "    </tr>\n",
       "    <tr>\n",
       "      <th>6</th>\n",
       "      <td>0</td>\n",
       "      <td>1</td>\n",
       "    </tr>\n",
       "    <tr>\n",
       "      <th>8</th>\n",
       "      <td>0</td>\n",
       "      <td>1</td>\n",
       "    </tr>\n",
       "    <tr>\n",
       "      <th>10</th>\n",
       "      <td>0</td>\n",
       "      <td>1</td>\n",
       "    </tr>\n",
       "  </tbody>\n",
       "</table>\n",
       "</div>"
      ],
      "text/plain": [
       "    fuel-type-diesel  fuel-type-gas\n",
       "3                  0              1\n",
       "4                  0              1\n",
       "6                  0              1\n",
       "8                  0              1\n",
       "10                 0              1"
      ]
     },
     "execution_count": 21,
     "metadata": {},
     "output_type": "execute_result"
    }
   ],
   "source": [
    "dummy_variable_1.rename(columns={'gas':'fuel-type-gas', 'diesel':'fuel-type-diesel'}, inplace=True)\n",
    "dummy_variable_1.head()"
   ]
  },
  {
   "cell_type": "code",
   "execution_count": 22,
   "id": "d8f387fd",
   "metadata": {},
   "outputs": [],
   "source": [
    "# merge data frame \"df\" and \"dummy_variable_1\" \n",
    "df = pd.concat([df, dummy_variable_1], axis=1)\n",
    "\n",
    "# drop original column \"fuel-type\" from \"df\"\n",
    "df.drop(\"fuel-type\", axis = 1, inplace=True)"
   ]
  },
  {
   "cell_type": "code",
   "execution_count": 23,
   "id": "f9b21a55",
   "metadata": {},
   "outputs": [
    {
     "data": {
      "text/html": [
       "<div>\n",
       "<style scoped>\n",
       "    .dataframe tbody tr th:only-of-type {\n",
       "        vertical-align: middle;\n",
       "    }\n",
       "\n",
       "    .dataframe tbody tr th {\n",
       "        vertical-align: top;\n",
       "    }\n",
       "\n",
       "    .dataframe thead th {\n",
       "        text-align: right;\n",
       "    }\n",
       "</style>\n",
       "<table border=\"1\" class=\"dataframe\">\n",
       "  <thead>\n",
       "    <tr style=\"text-align: right;\">\n",
       "      <th></th>\n",
       "      <th>symboling</th>\n",
       "      <th>normalized-losses</th>\n",
       "      <th>make</th>\n",
       "      <th>aspiration</th>\n",
       "      <th>num-of-doors</th>\n",
       "      <th>body-style</th>\n",
       "      <th>drive-wheels</th>\n",
       "      <th>engine-location</th>\n",
       "      <th>wheel-base</th>\n",
       "      <th>length</th>\n",
       "      <th>...</th>\n",
       "      <th>stroke</th>\n",
       "      <th>compression-ratio</th>\n",
       "      <th>horsepower</th>\n",
       "      <th>peak-rpm</th>\n",
       "      <th>city-mpg</th>\n",
       "      <th>highway-mpg</th>\n",
       "      <th>price</th>\n",
       "      <th>horsepower-binned</th>\n",
       "      <th>fuel-type-diesel</th>\n",
       "      <th>fuel-type-gas</th>\n",
       "    </tr>\n",
       "  </thead>\n",
       "  <tbody>\n",
       "    <tr>\n",
       "      <th>3</th>\n",
       "      <td>2</td>\n",
       "      <td>164</td>\n",
       "      <td>audi</td>\n",
       "      <td>std</td>\n",
       "      <td>four</td>\n",
       "      <td>sedan</td>\n",
       "      <td>fwd</td>\n",
       "      <td>front</td>\n",
       "      <td>99.8</td>\n",
       "      <td>176.6</td>\n",
       "      <td>...</td>\n",
       "      <td>3.40</td>\n",
       "      <td>10.0</td>\n",
       "      <td>102</td>\n",
       "      <td>5500</td>\n",
       "      <td>24</td>\n",
       "      <td>30</td>\n",
       "      <td>13950</td>\n",
       "      <td>Medium</td>\n",
       "      <td>0</td>\n",
       "      <td>1</td>\n",
       "    </tr>\n",
       "    <tr>\n",
       "      <th>4</th>\n",
       "      <td>2</td>\n",
       "      <td>164</td>\n",
       "      <td>audi</td>\n",
       "      <td>std</td>\n",
       "      <td>four</td>\n",
       "      <td>sedan</td>\n",
       "      <td>4wd</td>\n",
       "      <td>front</td>\n",
       "      <td>99.4</td>\n",
       "      <td>176.6</td>\n",
       "      <td>...</td>\n",
       "      <td>3.40</td>\n",
       "      <td>8.0</td>\n",
       "      <td>115</td>\n",
       "      <td>5500</td>\n",
       "      <td>18</td>\n",
       "      <td>22</td>\n",
       "      <td>17450</td>\n",
       "      <td>Medium</td>\n",
       "      <td>0</td>\n",
       "      <td>1</td>\n",
       "    </tr>\n",
       "    <tr>\n",
       "      <th>6</th>\n",
       "      <td>1</td>\n",
       "      <td>158</td>\n",
       "      <td>audi</td>\n",
       "      <td>std</td>\n",
       "      <td>four</td>\n",
       "      <td>sedan</td>\n",
       "      <td>fwd</td>\n",
       "      <td>front</td>\n",
       "      <td>105.8</td>\n",
       "      <td>192.7</td>\n",
       "      <td>...</td>\n",
       "      <td>3.40</td>\n",
       "      <td>8.5</td>\n",
       "      <td>110</td>\n",
       "      <td>5500</td>\n",
       "      <td>19</td>\n",
       "      <td>25</td>\n",
       "      <td>17710</td>\n",
       "      <td>Medium</td>\n",
       "      <td>0</td>\n",
       "      <td>1</td>\n",
       "    </tr>\n",
       "    <tr>\n",
       "      <th>8</th>\n",
       "      <td>1</td>\n",
       "      <td>158</td>\n",
       "      <td>audi</td>\n",
       "      <td>turbo</td>\n",
       "      <td>four</td>\n",
       "      <td>sedan</td>\n",
       "      <td>fwd</td>\n",
       "      <td>front</td>\n",
       "      <td>105.8</td>\n",
       "      <td>192.7</td>\n",
       "      <td>...</td>\n",
       "      <td>3.40</td>\n",
       "      <td>8.3</td>\n",
       "      <td>140</td>\n",
       "      <td>5500</td>\n",
       "      <td>17</td>\n",
       "      <td>20</td>\n",
       "      <td>23875</td>\n",
       "      <td>Medium</td>\n",
       "      <td>0</td>\n",
       "      <td>1</td>\n",
       "    </tr>\n",
       "    <tr>\n",
       "      <th>10</th>\n",
       "      <td>2</td>\n",
       "      <td>192</td>\n",
       "      <td>bmw</td>\n",
       "      <td>std</td>\n",
       "      <td>two</td>\n",
       "      <td>sedan</td>\n",
       "      <td>rwd</td>\n",
       "      <td>front</td>\n",
       "      <td>101.2</td>\n",
       "      <td>176.8</td>\n",
       "      <td>...</td>\n",
       "      <td>2.80</td>\n",
       "      <td>8.8</td>\n",
       "      <td>101</td>\n",
       "      <td>5800</td>\n",
       "      <td>23</td>\n",
       "      <td>29</td>\n",
       "      <td>16430</td>\n",
       "      <td>Medium</td>\n",
       "      <td>0</td>\n",
       "      <td>1</td>\n",
       "    </tr>\n",
       "  </tbody>\n",
       "</table>\n",
       "<p>5 rows × 28 columns</p>\n",
       "</div>"
      ],
      "text/plain": [
       "    symboling normalized-losses  make aspiration num-of-doors body-style  \\\n",
       "3           2               164  audi        std         four      sedan   \n",
       "4           2               164  audi        std         four      sedan   \n",
       "6           1               158  audi        std         four      sedan   \n",
       "8           1               158  audi      turbo         four      sedan   \n",
       "10          2               192   bmw        std          two      sedan   \n",
       "\n",
       "   drive-wheels engine-location  wheel-base  length  ...  stroke  \\\n",
       "3           fwd           front        99.8   176.6  ...    3.40   \n",
       "4           4wd           front        99.4   176.6  ...    3.40   \n",
       "6           fwd           front       105.8   192.7  ...    3.40   \n",
       "8           fwd           front       105.8   192.7  ...    3.40   \n",
       "10          rwd           front       101.2   176.8  ...    2.80   \n",
       "\n",
       "    compression-ratio  horsepower peak-rpm city-mpg  highway-mpg  price  \\\n",
       "3                10.0         102     5500       24           30  13950   \n",
       "4                 8.0         115     5500       18           22  17450   \n",
       "6                 8.5         110     5500       19           25  17710   \n",
       "8                 8.3         140     5500       17           20  23875   \n",
       "10                8.8         101     5800       23           29  16430   \n",
       "\n",
       "   horsepower-binned fuel-type-diesel  fuel-type-gas  \n",
       "3             Medium                0              1  \n",
       "4             Medium                0              1  \n",
       "6             Medium                0              1  \n",
       "8             Medium                0              1  \n",
       "10            Medium                0              1  \n",
       "\n",
       "[5 rows x 28 columns]"
      ]
     },
     "execution_count": 23,
     "metadata": {},
     "output_type": "execute_result"
    }
   ],
   "source": [
    "df.head()"
   ]
  },
  {
   "cell_type": "markdown",
   "id": "35f30598",
   "metadata": {},
   "source": [
    "#### Cambiar elementos de un Data Frame dentro de un iterrows"
   ]
  },
  {
   "cell_type": "code",
   "execution_count": null,
   "id": "daa9fc5b",
   "metadata": {},
   "outputs": [],
   "source": [
    "for index, row in data.iterrows():\n",
    "    if (row.Accion=='Cancelar'  and row.Estado!='Cancelada'):\n",
    "        data.at[index,'Resultado'] = 'Cerrada por el usuario'\n",
    "    "
   ]
  },
  {
   "cell_type": "markdown",
   "id": "b559d4b2",
   "metadata": {},
   "source": [
    "## 12. Numpy"
   ]
  },
  {
   "cell_type": "markdown",
   "id": "aa3e38bd",
   "metadata": {},
   "source": [
    "Las operaciones entre arrays funcionan mucho mas rapido, que cuando se usan listas o data frames."
   ]
  },
  {
   "cell_type": "code",
   "execution_count": 5,
   "id": "486ded83",
   "metadata": {},
   "outputs": [
    {
     "data": {
      "text/plain": [
       "array([0, 1, 2, 3, 4])"
      ]
     },
     "execution_count": 5,
     "metadata": {},
     "output_type": "execute_result"
    }
   ],
   "source": [
    "import numpy as np\n",
    "a = np.array([0, 1, 2, 3, 4])\n",
    "a.size\n",
    "a"
   ]
  },
  {
   "cell_type": "code",
   "execution_count": 6,
   "id": "b47833d0",
   "metadata": {},
   "outputs": [
    {
     "data": {
      "text/plain": [
       "2.0"
      ]
     },
     "execution_count": 6,
     "metadata": {},
     "output_type": "execute_result"
    }
   ],
   "source": [
    "mean = a.mean()\n",
    "mean"
   ]
  },
  {
   "cell_type": "markdown",
   "id": "13994dca",
   "metadata": {},
   "source": [
    "Facilita las operaciones entre arreglos"
   ]
  },
  {
   "cell_type": "code",
   "execution_count": 7,
   "id": "789acccb",
   "metadata": {},
   "outputs": [],
   "source": [
    "u = np.array([1, 0])\n",
    "v = np.array([0, 1])\n"
   ]
  },
  {
   "cell_type": "code",
   "execution_count": 8,
   "id": "7c4d9bcb",
   "metadata": {},
   "outputs": [
    {
     "data": {
      "text/plain": [
       "array([1, 1])"
      ]
     },
     "execution_count": 8,
     "metadata": {},
     "output_type": "execute_result"
    }
   ],
   "source": [
    "z = u + v\n",
    "z"
   ]
  },
  {
   "cell_type": "code",
   "execution_count": 11,
   "id": "42396b16",
   "metadata": {},
   "outputs": [
    {
     "data": {
      "text/plain": [
       "array([[2, 2],\n",
       "       [2, 2]])"
      ]
     },
     "execution_count": 11,
     "metadata": {},
     "output_type": "execute_result"
    }
   ],
   "source": [
    "X=np.array([[1,0],[0,1]])\n",
    "Y=np.array([[2,2],[2,2]])\n",
    "Z=np.dot(X,Y)\n",
    "Z"
   ]
  },
  {
   "cell_type": "code",
   "execution_count": null,
   "id": "54d90872",
   "metadata": {},
   "outputs": [],
   "source": []
  },
  {
   "cell_type": "code",
   "execution_count": null,
   "id": "e93c9b1b",
   "metadata": {},
   "outputs": [],
   "source": []
  },
  {
   "cell_type": "code",
   "execution_count": null,
   "id": "28e1ff05",
   "metadata": {},
   "outputs": [],
   "source": []
  },
  {
   "cell_type": "code",
   "execution_count": null,
   "id": "1ef9f0f3",
   "metadata": {},
   "outputs": [],
   "source": []
  },
  {
   "cell_type": "code",
   "execution_count": null,
   "id": "0a811e48",
   "metadata": {},
   "outputs": [],
   "source": []
  },
  {
   "cell_type": "code",
   "execution_count": null,
   "id": "8b404340",
   "metadata": {},
   "outputs": [],
   "source": []
  },
  {
   "cell_type": "code",
   "execution_count": null,
   "id": "df2dfb34",
   "metadata": {},
   "outputs": [],
   "source": []
  },
  {
   "cell_type": "code",
   "execution_count": null,
   "id": "20e5353b",
   "metadata": {},
   "outputs": [],
   "source": []
  },
  {
   "cell_type": "code",
   "execution_count": null,
   "id": "1ec44023",
   "metadata": {},
   "outputs": [],
   "source": []
  },
  {
   "cell_type": "code",
   "execution_count": null,
   "id": "95faa2eb",
   "metadata": {},
   "outputs": [],
   "source": []
  },
  {
   "cell_type": "markdown",
   "id": "51c7dd6b",
   "metadata": {},
   "source": [
    "## 20. Estadistica"
   ]
  },
  {
   "cell_type": "markdown",
   "id": "e25cea1c",
   "metadata": {},
   "source": [
    "#### Resumen rapido"
   ]
  },
  {
   "cell_type": "code",
   "execution_count": null,
   "id": "1d766bfb",
   "metadata": {},
   "outputs": [],
   "source": [
    "df.describe()"
   ]
  },
  {
   "cell_type": "markdown",
   "id": "f5be268f",
   "metadata": {},
   "source": [
    "la funcion omite las variables objeto, asì se incluyen"
   ]
  },
  {
   "cell_type": "code",
   "execution_count": null,
   "id": "e90bc81e",
   "metadata": {},
   "outputs": [],
   "source": [
    "df.describe(include=['object'])"
   ]
  },
  {
   "cell_type": "markdown",
   "id": "caa8915a",
   "metadata": {},
   "source": [
    "#### Analisis de valores por medio de pivot tables"
   ]
  },
  {
   "cell_type": "code",
   "execution_count": 31,
   "id": "cc1bf547",
   "metadata": {},
   "outputs": [],
   "source": [
    "df['price']=df['price'].astype('int')\n",
    "df_group_one = df[['drive-wheels','body-style','price']]"
   ]
  },
  {
   "cell_type": "code",
   "execution_count": 32,
   "id": "344b070e",
   "metadata": {},
   "outputs": [
    {
     "data": {
      "text/html": [
       "<div>\n",
       "<style scoped>\n",
       "    .dataframe tbody tr th:only-of-type {\n",
       "        vertical-align: middle;\n",
       "    }\n",
       "\n",
       "    .dataframe tbody tr th {\n",
       "        vertical-align: top;\n",
       "    }\n",
       "\n",
       "    .dataframe thead th {\n",
       "        text-align: right;\n",
       "    }\n",
       "</style>\n",
       "<table border=\"1\" class=\"dataframe\">\n",
       "  <thead>\n",
       "    <tr style=\"text-align: right;\">\n",
       "      <th></th>\n",
       "      <th>drive-wheels</th>\n",
       "      <th>price</th>\n",
       "    </tr>\n",
       "  </thead>\n",
       "  <tbody>\n",
       "    <tr>\n",
       "      <th>0</th>\n",
       "      <td>4wd</td>\n",
       "      <td>10241.000000</td>\n",
       "    </tr>\n",
       "    <tr>\n",
       "      <th>1</th>\n",
       "      <td>fwd</td>\n",
       "      <td>8811.038095</td>\n",
       "    </tr>\n",
       "    <tr>\n",
       "      <th>2</th>\n",
       "      <td>rwd</td>\n",
       "      <td>17669.217391</td>\n",
       "    </tr>\n",
       "  </tbody>\n",
       "</table>\n",
       "</div>"
      ],
      "text/plain": [
       "  drive-wheels         price\n",
       "0          4wd  10241.000000\n",
       "1          fwd   8811.038095\n",
       "2          rwd  17669.217391"
      ]
     },
     "execution_count": 32,
     "metadata": {},
     "output_type": "execute_result"
    }
   ],
   "source": [
    "df_group_one = df_group_one.groupby(['drive-wheels'],as_index=False).mean()\n",
    "df_group_one"
   ]
  },
  {
   "cell_type": "code",
   "execution_count": 33,
   "id": "0fd5550f",
   "metadata": {},
   "outputs": [
    {
     "data": {
      "text/html": [
       "<div>\n",
       "<style scoped>\n",
       "    .dataframe tbody tr th:only-of-type {\n",
       "        vertical-align: middle;\n",
       "    }\n",
       "\n",
       "    .dataframe tbody tr th {\n",
       "        vertical-align: top;\n",
       "    }\n",
       "\n",
       "    .dataframe thead th {\n",
       "        text-align: right;\n",
       "    }\n",
       "</style>\n",
       "<table border=\"1\" class=\"dataframe\">\n",
       "  <thead>\n",
       "    <tr style=\"text-align: right;\">\n",
       "      <th></th>\n",
       "      <th>drive-wheels</th>\n",
       "      <th>body-style</th>\n",
       "      <th>price</th>\n",
       "    </tr>\n",
       "  </thead>\n",
       "  <tbody>\n",
       "    <tr>\n",
       "      <th>0</th>\n",
       "      <td>4wd</td>\n",
       "      <td>hatchback</td>\n",
       "      <td>7603.000000</td>\n",
       "    </tr>\n",
       "    <tr>\n",
       "      <th>1</th>\n",
       "      <td>4wd</td>\n",
       "      <td>sedan</td>\n",
       "      <td>12647.333333</td>\n",
       "    </tr>\n",
       "    <tr>\n",
       "      <th>2</th>\n",
       "      <td>4wd</td>\n",
       "      <td>wagon</td>\n",
       "      <td>9095.750000</td>\n",
       "    </tr>\n",
       "    <tr>\n",
       "      <th>3</th>\n",
       "      <td>fwd</td>\n",
       "      <td>hardtop</td>\n",
       "      <td>8249.000000</td>\n",
       "    </tr>\n",
       "    <tr>\n",
       "      <th>4</th>\n",
       "      <td>fwd</td>\n",
       "      <td>hatchback</td>\n",
       "      <td>7989.800000</td>\n",
       "    </tr>\n",
       "    <tr>\n",
       "      <th>5</th>\n",
       "      <td>fwd</td>\n",
       "      <td>sedan</td>\n",
       "      <td>9558.120000</td>\n",
       "    </tr>\n",
       "    <tr>\n",
       "      <th>6</th>\n",
       "      <td>fwd</td>\n",
       "      <td>wagon</td>\n",
       "      <td>8829.222222</td>\n",
       "    </tr>\n",
       "    <tr>\n",
       "      <th>7</th>\n",
       "      <td>rwd</td>\n",
       "      <td>convertible</td>\n",
       "      <td>26362.500000</td>\n",
       "    </tr>\n",
       "    <tr>\n",
       "      <th>8</th>\n",
       "      <td>rwd</td>\n",
       "      <td>hardtop</td>\n",
       "      <td>14365.750000</td>\n",
       "    </tr>\n",
       "    <tr>\n",
       "      <th>9</th>\n",
       "      <td>rwd</td>\n",
       "      <td>hatchback</td>\n",
       "      <td>14918.500000</td>\n",
       "    </tr>\n",
       "    <tr>\n",
       "      <th>10</th>\n",
       "      <td>rwd</td>\n",
       "      <td>sedan</td>\n",
       "      <td>18318.576923</td>\n",
       "    </tr>\n",
       "    <tr>\n",
       "      <th>11</th>\n",
       "      <td>rwd</td>\n",
       "      <td>wagon</td>\n",
       "      <td>19282.000000</td>\n",
       "    </tr>\n",
       "  </tbody>\n",
       "</table>\n",
       "</div>"
      ],
      "text/plain": [
       "   drive-wheels   body-style         price\n",
       "0           4wd    hatchback   7603.000000\n",
       "1           4wd        sedan  12647.333333\n",
       "2           4wd        wagon   9095.750000\n",
       "3           fwd      hardtop   8249.000000\n",
       "4           fwd    hatchback   7989.800000\n",
       "5           fwd        sedan   9558.120000\n",
       "6           fwd        wagon   8829.222222\n",
       "7           rwd  convertible  26362.500000\n",
       "8           rwd      hardtop  14365.750000\n",
       "9           rwd    hatchback  14918.500000\n",
       "10          rwd        sedan  18318.576923\n",
       "11          rwd        wagon  19282.000000"
      ]
     },
     "execution_count": 33,
     "metadata": {},
     "output_type": "execute_result"
    }
   ],
   "source": [
    "# grouping results\n",
    "df_gptest = df[['drive-wheels','body-style','price']]\n",
    "grouped_test1 = df_gptest.groupby(['drive-wheels','body-style'],as_index=False).mean()\n",
    "grouped_test1"
   ]
  },
  {
   "cell_type": "code",
   "execution_count": 34,
   "id": "19e6d03f",
   "metadata": {},
   "outputs": [
    {
     "data": {
      "text/html": [
       "<div>\n",
       "<style scoped>\n",
       "    .dataframe tbody tr th:only-of-type {\n",
       "        vertical-align: middle;\n",
       "    }\n",
       "\n",
       "    .dataframe tbody tr th {\n",
       "        vertical-align: top;\n",
       "    }\n",
       "\n",
       "    .dataframe thead tr th {\n",
       "        text-align: left;\n",
       "    }\n",
       "\n",
       "    .dataframe thead tr:last-of-type th {\n",
       "        text-align: right;\n",
       "    }\n",
       "</style>\n",
       "<table border=\"1\" class=\"dataframe\">\n",
       "  <thead>\n",
       "    <tr>\n",
       "      <th></th>\n",
       "      <th colspan=\"5\" halign=\"left\">price</th>\n",
       "    </tr>\n",
       "    <tr>\n",
       "      <th>body-style</th>\n",
       "      <th>convertible</th>\n",
       "      <th>hardtop</th>\n",
       "      <th>hatchback</th>\n",
       "      <th>sedan</th>\n",
       "      <th>wagon</th>\n",
       "    </tr>\n",
       "    <tr>\n",
       "      <th>drive-wheels</th>\n",
       "      <th></th>\n",
       "      <th></th>\n",
       "      <th></th>\n",
       "      <th></th>\n",
       "      <th></th>\n",
       "    </tr>\n",
       "  </thead>\n",
       "  <tbody>\n",
       "    <tr>\n",
       "      <th>4wd</th>\n",
       "      <td>NaN</td>\n",
       "      <td>NaN</td>\n",
       "      <td>7603.0</td>\n",
       "      <td>12647.333333</td>\n",
       "      <td>9095.750000</td>\n",
       "    </tr>\n",
       "    <tr>\n",
       "      <th>fwd</th>\n",
       "      <td>NaN</td>\n",
       "      <td>8249.00</td>\n",
       "      <td>7989.8</td>\n",
       "      <td>9558.120000</td>\n",
       "      <td>8829.222222</td>\n",
       "    </tr>\n",
       "    <tr>\n",
       "      <th>rwd</th>\n",
       "      <td>26362.5</td>\n",
       "      <td>14365.75</td>\n",
       "      <td>14918.5</td>\n",
       "      <td>18318.576923</td>\n",
       "      <td>19282.000000</td>\n",
       "    </tr>\n",
       "  </tbody>\n",
       "</table>\n",
       "</div>"
      ],
      "text/plain": [
       "                   price                                                \n",
       "body-style   convertible   hardtop hatchback         sedan         wagon\n",
       "drive-wheels                                                            \n",
       "4wd                  NaN       NaN    7603.0  12647.333333   9095.750000\n",
       "fwd                  NaN   8249.00    7989.8   9558.120000   8829.222222\n",
       "rwd              26362.5  14365.75   14918.5  18318.576923  19282.000000"
      ]
     },
     "execution_count": 34,
     "metadata": {},
     "output_type": "execute_result"
    }
   ],
   "source": [
    "grouped_pivot = grouped_test1.pivot(index='drive-wheels',columns='body-style')\n",
    "grouped_pivot"
   ]
  },
  {
   "cell_type": "code",
   "execution_count": 35,
   "id": "203d6e2a",
   "metadata": {},
   "outputs": [
    {
     "data": {
      "text/html": [
       "<div>\n",
       "<style scoped>\n",
       "    .dataframe tbody tr th:only-of-type {\n",
       "        vertical-align: middle;\n",
       "    }\n",
       "\n",
       "    .dataframe tbody tr th {\n",
       "        vertical-align: top;\n",
       "    }\n",
       "\n",
       "    .dataframe thead tr th {\n",
       "        text-align: left;\n",
       "    }\n",
       "\n",
       "    .dataframe thead tr:last-of-type th {\n",
       "        text-align: right;\n",
       "    }\n",
       "</style>\n",
       "<table border=\"1\" class=\"dataframe\">\n",
       "  <thead>\n",
       "    <tr>\n",
       "      <th></th>\n",
       "      <th colspan=\"5\" halign=\"left\">price</th>\n",
       "    </tr>\n",
       "    <tr>\n",
       "      <th>body-style</th>\n",
       "      <th>convertible</th>\n",
       "      <th>hardtop</th>\n",
       "      <th>hatchback</th>\n",
       "      <th>sedan</th>\n",
       "      <th>wagon</th>\n",
       "    </tr>\n",
       "    <tr>\n",
       "      <th>drive-wheels</th>\n",
       "      <th></th>\n",
       "      <th></th>\n",
       "      <th></th>\n",
       "      <th></th>\n",
       "      <th></th>\n",
       "    </tr>\n",
       "  </thead>\n",
       "  <tbody>\n",
       "    <tr>\n",
       "      <th>4wd</th>\n",
       "      <td>0.0</td>\n",
       "      <td>0.00</td>\n",
       "      <td>7603.0</td>\n",
       "      <td>12647.333333</td>\n",
       "      <td>9095.750000</td>\n",
       "    </tr>\n",
       "    <tr>\n",
       "      <th>fwd</th>\n",
       "      <td>0.0</td>\n",
       "      <td>8249.00</td>\n",
       "      <td>7989.8</td>\n",
       "      <td>9558.120000</td>\n",
       "      <td>8829.222222</td>\n",
       "    </tr>\n",
       "    <tr>\n",
       "      <th>rwd</th>\n",
       "      <td>26362.5</td>\n",
       "      <td>14365.75</td>\n",
       "      <td>14918.5</td>\n",
       "      <td>18318.576923</td>\n",
       "      <td>19282.000000</td>\n",
       "    </tr>\n",
       "  </tbody>\n",
       "</table>\n",
       "</div>"
      ],
      "text/plain": [
       "                   price                                                \n",
       "body-style   convertible   hardtop hatchback         sedan         wagon\n",
       "drive-wheels                                                            \n",
       "4wd                  0.0      0.00    7603.0  12647.333333   9095.750000\n",
       "fwd                  0.0   8249.00    7989.8   9558.120000   8829.222222\n",
       "rwd              26362.5  14365.75   14918.5  18318.576923  19282.000000"
      ]
     },
     "execution_count": 35,
     "metadata": {},
     "output_type": "execute_result"
    }
   ],
   "source": [
    "grouped_pivot = grouped_pivot.fillna(0) #fill missing values with 0\n",
    "grouped_pivot"
   ]
  },
  {
   "cell_type": "code",
   "execution_count": 37,
   "id": "07b66286",
   "metadata": {},
   "outputs": [
    {
     "data": {
      "image/png": "[encoded data removed]",
      "text/plain": [
       "<Figure size 432x288 with 2 Axes>"
      ]
     },
     "metadata": {
      "needs_background": "light"
     },
     "output_type": "display_data"
    }
   ],
   "source": [
    "import matplotlib.pyplot as plt\n",
    "%matplotlib inline \n",
    "#use the grouped results\n",
    "plt.pcolor(grouped_pivot, cmap='RdBu')\n",
    "plt.colorbar()\n",
    "plt.show()"
   ]
  },
  {
   "cell_type": "markdown",
   "id": "dfc00c21",
   "metadata": {},
   "source": [
    "#### Correlaciones"
   ]
  },
  {
   "cell_type": "markdown",
   "id": "b08d1afc",
   "metadata": {},
   "source": [
    "Pearson correlation se usa para dos variables numericas. Es la forma predeterminada de Corr."
   ]
  },
  {
   "cell_type": "code",
   "execution_count": 38,
   "id": "50500956",
   "metadata": {},
   "outputs": [
    {
     "data": {
      "text/html": [
       "<div>\n",
       "<style scoped>\n",
       "    .dataframe tbody tr th:only-of-type {\n",
       "        vertical-align: middle;\n",
       "    }\n",
       "\n",
       "    .dataframe tbody tr th {\n",
       "        vertical-align: top;\n",
       "    }\n",
       "\n",
       "    .dataframe thead th {\n",
       "        text-align: right;\n",
       "    }\n",
       "</style>\n",
       "<table border=\"1\" class=\"dataframe\">\n",
       "  <thead>\n",
       "    <tr style=\"text-align: right;\">\n",
       "      <th></th>\n",
       "      <th>symboling</th>\n",
       "      <th>wheel-base</th>\n",
       "      <th>length</th>\n",
       "      <th>width</th>\n",
       "      <th>height</th>\n",
       "      <th>curb-weight</th>\n",
       "      <th>engine-size</th>\n",
       "      <th>compression-ratio</th>\n",
       "      <th>horsepower</th>\n",
       "      <th>city-mpg</th>\n",
       "      <th>highway-mpg</th>\n",
       "      <th>price</th>\n",
       "      <th>fuel-type-diesel</th>\n",
       "      <th>fuel-type-gas</th>\n",
       "    </tr>\n",
       "  </thead>\n",
       "  <tbody>\n",
       "    <tr>\n",
       "      <th>symboling</th>\n",
       "      <td>1.000000</td>\n",
       "      <td>-0.520591</td>\n",
       "      <td>-0.336257</td>\n",
       "      <td>-0.219186</td>\n",
       "      <td>-0.475185</td>\n",
       "      <td>-0.251880</td>\n",
       "      <td>-0.109453</td>\n",
       "      <td>-0.138316</td>\n",
       "      <td>-0.003949</td>\n",
       "      <td>0.089550</td>\n",
       "      <td>0.149830</td>\n",
       "      <td>-0.162794</td>\n",
       "      <td>-0.163505</td>\n",
       "      <td>0.163505</td>\n",
       "    </tr>\n",
       "    <tr>\n",
       "      <th>wheel-base</th>\n",
       "      <td>-0.520591</td>\n",
       "      <td>1.000000</td>\n",
       "      <td>0.871534</td>\n",
       "      <td>0.814991</td>\n",
       "      <td>0.555767</td>\n",
       "      <td>0.810181</td>\n",
       "      <td>0.649206</td>\n",
       "      <td>0.291431</td>\n",
       "      <td>0.516948</td>\n",
       "      <td>-0.580657</td>\n",
       "      <td>-0.611750</td>\n",
       "      <td>0.734419</td>\n",
       "      <td>0.339752</td>\n",
       "      <td>-0.339752</td>\n",
       "    </tr>\n",
       "    <tr>\n",
       "      <th>length</th>\n",
       "      <td>-0.336257</td>\n",
       "      <td>0.871534</td>\n",
       "      <td>1.000000</td>\n",
       "      <td>0.838338</td>\n",
       "      <td>0.499251</td>\n",
       "      <td>0.871291</td>\n",
       "      <td>0.725953</td>\n",
       "      <td>0.184814</td>\n",
       "      <td>0.672063</td>\n",
       "      <td>-0.724544</td>\n",
       "      <td>-0.724599</td>\n",
       "      <td>0.760952</td>\n",
       "      <td>0.230757</td>\n",
       "      <td>-0.230757</td>\n",
       "    </tr>\n",
       "    <tr>\n",
       "      <th>width</th>\n",
       "      <td>-0.219186</td>\n",
       "      <td>0.814991</td>\n",
       "      <td>0.838338</td>\n",
       "      <td>1.000000</td>\n",
       "      <td>0.292706</td>\n",
       "      <td>0.870595</td>\n",
       "      <td>0.779253</td>\n",
       "      <td>0.258752</td>\n",
       "      <td>0.681872</td>\n",
       "      <td>-0.666684</td>\n",
       "      <td>-0.693339</td>\n",
       "      <td>0.843371</td>\n",
       "      <td>0.312339</td>\n",
       "      <td>-0.312339</td>\n",
       "    </tr>\n",
       "    <tr>\n",
       "      <th>height</th>\n",
       "      <td>-0.475185</td>\n",
       "      <td>0.555767</td>\n",
       "      <td>0.499251</td>\n",
       "      <td>0.292706</td>\n",
       "      <td>1.000000</td>\n",
       "      <td>0.367052</td>\n",
       "      <td>0.111083</td>\n",
       "      <td>0.233308</td>\n",
       "      <td>0.034317</td>\n",
       "      <td>-0.199737</td>\n",
       "      <td>-0.226136</td>\n",
       "      <td>0.244836</td>\n",
       "      <td>0.245546</td>\n",
       "      <td>-0.245546</td>\n",
       "    </tr>\n",
       "    <tr>\n",
       "      <th>curb-weight</th>\n",
       "      <td>-0.251880</td>\n",
       "      <td>0.810181</td>\n",
       "      <td>0.871291</td>\n",
       "      <td>0.870595</td>\n",
       "      <td>0.367052</td>\n",
       "      <td>1.000000</td>\n",
       "      <td>0.888626</td>\n",
       "      <td>0.224724</td>\n",
       "      <td>0.790095</td>\n",
       "      <td>-0.762155</td>\n",
       "      <td>-0.789338</td>\n",
       "      <td>0.893639</td>\n",
       "      <td>0.287617</td>\n",
       "      <td>-0.287617</td>\n",
       "    </tr>\n",
       "    <tr>\n",
       "      <th>engine-size</th>\n",
       "      <td>-0.109453</td>\n",
       "      <td>0.649206</td>\n",
       "      <td>0.725953</td>\n",
       "      <td>0.779253</td>\n",
       "      <td>0.111083</td>\n",
       "      <td>0.888626</td>\n",
       "      <td>1.000000</td>\n",
       "      <td>0.141097</td>\n",
       "      <td>0.812073</td>\n",
       "      <td>-0.699139</td>\n",
       "      <td>-0.714095</td>\n",
       "      <td>0.841496</td>\n",
       "      <td>0.190333</td>\n",
       "      <td>-0.190333</td>\n",
       "    </tr>\n",
       "    <tr>\n",
       "      <th>compression-ratio</th>\n",
       "      <td>-0.138316</td>\n",
       "      <td>0.291431</td>\n",
       "      <td>0.184814</td>\n",
       "      <td>0.258752</td>\n",
       "      <td>0.233308</td>\n",
       "      <td>0.224724</td>\n",
       "      <td>0.141097</td>\n",
       "      <td>1.000000</td>\n",
       "      <td>-0.162305</td>\n",
       "      <td>0.278332</td>\n",
       "      <td>0.221483</td>\n",
       "      <td>0.209361</td>\n",
       "      <td>0.987713</td>\n",
       "      <td>-0.987713</td>\n",
       "    </tr>\n",
       "    <tr>\n",
       "      <th>horsepower</th>\n",
       "      <td>-0.003949</td>\n",
       "      <td>0.516948</td>\n",
       "      <td>0.672063</td>\n",
       "      <td>0.681872</td>\n",
       "      <td>0.034317</td>\n",
       "      <td>0.790095</td>\n",
       "      <td>0.812073</td>\n",
       "      <td>-0.162305</td>\n",
       "      <td>1.000000</td>\n",
       "      <td>-0.837214</td>\n",
       "      <td>-0.827941</td>\n",
       "      <td>0.759874</td>\n",
       "      <td>-0.100161</td>\n",
       "      <td>0.100161</td>\n",
       "    </tr>\n",
       "    <tr>\n",
       "      <th>city-mpg</th>\n",
       "      <td>0.089550</td>\n",
       "      <td>-0.580657</td>\n",
       "      <td>-0.724544</td>\n",
       "      <td>-0.666684</td>\n",
       "      <td>-0.199737</td>\n",
       "      <td>-0.762155</td>\n",
       "      <td>-0.699139</td>\n",
       "      <td>0.278332</td>\n",
       "      <td>-0.837214</td>\n",
       "      <td>1.000000</td>\n",
       "      <td>0.971999</td>\n",
       "      <td>-0.692273</td>\n",
       "      <td>0.205928</td>\n",
       "      <td>-0.205928</td>\n",
       "    </tr>\n",
       "    <tr>\n",
       "      <th>highway-mpg</th>\n",
       "      <td>0.149830</td>\n",
       "      <td>-0.611750</td>\n",
       "      <td>-0.724599</td>\n",
       "      <td>-0.693339</td>\n",
       "      <td>-0.226136</td>\n",
       "      <td>-0.789338</td>\n",
       "      <td>-0.714095</td>\n",
       "      <td>0.221483</td>\n",
       "      <td>-0.827941</td>\n",
       "      <td>0.971999</td>\n",
       "      <td>1.000000</td>\n",
       "      <td>-0.720090</td>\n",
       "      <td>0.149619</td>\n",
       "      <td>-0.149619</td>\n",
       "    </tr>\n",
       "    <tr>\n",
       "      <th>price</th>\n",
       "      <td>-0.162794</td>\n",
       "      <td>0.734419</td>\n",
       "      <td>0.760952</td>\n",
       "      <td>0.843371</td>\n",
       "      <td>0.244836</td>\n",
       "      <td>0.893639</td>\n",
       "      <td>0.841496</td>\n",
       "      <td>0.209361</td>\n",
       "      <td>0.759874</td>\n",
       "      <td>-0.692273</td>\n",
       "      <td>-0.720090</td>\n",
       "      <td>1.000000</td>\n",
       "      <td>0.261305</td>\n",
       "      <td>-0.261305</td>\n",
       "    </tr>\n",
       "    <tr>\n",
       "      <th>fuel-type-diesel</th>\n",
       "      <td>-0.163505</td>\n",
       "      <td>0.339752</td>\n",
       "      <td>0.230757</td>\n",
       "      <td>0.312339</td>\n",
       "      <td>0.245546</td>\n",
       "      <td>0.287617</td>\n",
       "      <td>0.190333</td>\n",
       "      <td>0.987713</td>\n",
       "      <td>-0.100161</td>\n",
       "      <td>0.205928</td>\n",
       "      <td>0.149619</td>\n",
       "      <td>0.261305</td>\n",
       "      <td>1.000000</td>\n",
       "      <td>-1.000000</td>\n",
       "    </tr>\n",
       "    <tr>\n",
       "      <th>fuel-type-gas</th>\n",
       "      <td>0.163505</td>\n",
       "      <td>-0.339752</td>\n",
       "      <td>-0.230757</td>\n",
       "      <td>-0.312339</td>\n",
       "      <td>-0.245546</td>\n",
       "      <td>-0.287617</td>\n",
       "      <td>-0.190333</td>\n",
       "      <td>-0.987713</td>\n",
       "      <td>0.100161</td>\n",
       "      <td>-0.205928</td>\n",
       "      <td>-0.149619</td>\n",
       "      <td>-0.261305</td>\n",
       "      <td>-1.000000</td>\n",
       "      <td>1.000000</td>\n",
       "    </tr>\n",
       "  </tbody>\n",
       "</table>\n",
       "</div>"
      ],
      "text/plain": [
       "                   symboling  wheel-base    length     width    height  \\\n",
       "symboling           1.000000   -0.520591 -0.336257 -0.219186 -0.475185   \n",
       "wheel-base         -0.520591    1.000000  0.871534  0.814991  0.555767   \n",
       "length             -0.336257    0.871534  1.000000  0.838338  0.499251   \n",
       "width              -0.219186    0.814991  0.838338  1.000000  0.292706   \n",
       "height             -0.475185    0.555767  0.499251  0.292706  1.000000   \n",
       "curb-weight        -0.251880    0.810181  0.871291  0.870595  0.367052   \n",
       "engine-size        -0.109453    0.649206  0.725953  0.779253  0.111083   \n",
       "compression-ratio  -0.138316    0.291431  0.184814  0.258752  0.233308   \n",
       "horsepower         -0.003949    0.516948  0.672063  0.681872  0.034317   \n",
       "city-mpg            0.089550   -0.580657 -0.724544 -0.666684 -0.199737   \n",
       "highway-mpg         0.149830   -0.611750 -0.724599 -0.693339 -0.226136   \n",
       "price              -0.162794    0.734419  0.760952  0.843371  0.244836   \n",
       "fuel-type-diesel   -0.163505    0.339752  0.230757  0.312339  0.245546   \n",
       "fuel-type-gas       0.163505   -0.339752 -0.230757 -0.312339 -0.245546   \n",
       "\n",
       "                   curb-weight  engine-size  compression-ratio  horsepower  \\\n",
       "symboling            -0.251880    -0.109453          -0.138316   -0.003949   \n",
       "wheel-base            0.810181     0.649206           0.291431    0.516948   \n",
       "length                0.871291     0.725953           0.184814    0.672063   \n",
       "width                 0.870595     0.779253           0.258752    0.681872   \n",
       "height                0.367052     0.111083           0.233308    0.034317   \n",
       "curb-weight           1.000000     0.888626           0.224724    0.790095   \n",
       "engine-size           0.888626     1.000000           0.141097    0.812073   \n",
       "compression-ratio     0.224724     0.141097           1.000000   -0.162305   \n",
       "horsepower            0.790095     0.812073          -0.162305    1.000000   \n",
       "city-mpg             -0.762155    -0.699139           0.278332   -0.837214   \n",
       "highway-mpg          -0.789338    -0.714095           0.221483   -0.827941   \n",
       "price                 0.893639     0.841496           0.209361    0.759874   \n",
       "fuel-type-diesel      0.287617     0.190333           0.987713   -0.100161   \n",
       "fuel-type-gas        -0.287617    -0.190333          -0.987713    0.100161   \n",
       "\n",
       "                   city-mpg  highway-mpg     price  fuel-type-diesel  \\\n",
       "symboling          0.089550     0.149830 -0.162794         -0.163505   \n",
       "wheel-base        -0.580657    -0.611750  0.734419          0.339752   \n",
       "length            -0.724544    -0.724599  0.760952          0.230757   \n",
       "width             -0.666684    -0.693339  0.843371          0.312339   \n",
       "height            -0.199737    -0.226136  0.244836          0.245546   \n",
       "curb-weight       -0.762155    -0.789338  0.893639          0.287617   \n",
       "engine-size       -0.699139    -0.714095  0.841496          0.190333   \n",
       "compression-ratio  0.278332     0.221483  0.209361          0.987713   \n",
       "horsepower        -0.837214    -0.827941  0.759874         -0.100161   \n",
       "city-mpg           1.000000     0.971999 -0.692273          0.205928   \n",
       "highway-mpg        0.971999     1.000000 -0.720090          0.149619   \n",
       "price             -0.692273    -0.720090  1.000000          0.261305   \n",
       "fuel-type-diesel   0.205928     0.149619  0.261305          1.000000   \n",
       "fuel-type-gas     -0.205928    -0.149619 -0.261305         -1.000000   \n",
       "\n",
       "                   fuel-type-gas  \n",
       "symboling               0.163505  \n",
       "wheel-base             -0.339752  \n",
       "length                 -0.230757  \n",
       "width                  -0.312339  \n",
       "height                 -0.245546  \n",
       "curb-weight            -0.287617  \n",
       "engine-size            -0.190333  \n",
       "compression-ratio      -0.987713  \n",
       "horsepower              0.100161  \n",
       "city-mpg               -0.205928  \n",
       "highway-mpg            -0.149619  \n",
       "price                  -0.261305  \n",
       "fuel-type-diesel       -1.000000  \n",
       "fuel-type-gas           1.000000  "
      ]
     },
     "execution_count": 38,
     "metadata": {},
     "output_type": "execute_result"
    }
   ],
   "source": [
    "df.corr()"
   ]
  },
  {
   "cell_type": "markdown",
   "id": "aae7ab07",
   "metadata": {},
   "source": [
    "<b>P-value</b>\n",
    "\n",
    "<p>What is this P-value? The P-value is the probability value that the correlation between these two variables is statistically significant. Normally, we choose a significance level of 0.05, which means that we are 95% confident that the correlation between the variables is significant.</p>\n",
    "\n",
    "By convention, when the\n",
    "\n",
    "<ul>\n",
    "    <li>p-value is $<$ 0.001: we say there is strong evidence that the correlation is significant.</li>\n",
    "    <li>the p-value is $<$ 0.05: there is moderate evidence that the correlation is significant.</li>\n",
    "    <li>the p-value is $<$ 0.1: there is weak evidence that the correlation is significant.</li>\n",
    "    <li>the p-value is $>$ 0.1: there is no evidence that the correlation is significant.</li>\n",
    "</ul>\n"
   ]
  },
  {
   "cell_type": "code",
   "execution_count": 39,
   "id": "9e2b5e6f",
   "metadata": {},
   "outputs": [],
   "source": [
    "from scipy import stats"
   ]
  },
  {
   "cell_type": "code",
   "execution_count": 40,
   "id": "f0bf4661",
   "metadata": {},
   "outputs": [
    {
     "name": "stdout",
     "output_type": "stream",
     "text": [
      "The Pearson Correlation Coefficient is 0.7344189369206999  with a P-value of P = 3.2219182542198465e-28\n"
     ]
    }
   ],
   "source": [
    "pearson_coef, p_value = stats.pearsonr(df['wheel-base'], df['price'])\n",
    "print(\"The Pearson Correlation Coefficient is\", pearson_coef, \" with a P-value of P =\", p_value)  "
   ]
  },
  {
   "cell_type": "markdown",
   "id": "1500c419",
   "metadata": {},
   "source": [
    "#### Chi2 se usa para relaciones entre variables categorias por medio de tablas de contingencia (pendiente el codigo)"
   ]
  },
  {
   "cell_type": "markdown",
   "id": "937c2036",
   "metadata": {},
   "source": [
    "We are going to create sample data. Let’s say we collected data on the favorite color of T-shirts for men and women. We want to find out whether color and gender are independent or not. We create a small sample data using the Pandas dataframe and we will store our data in a variable called tshirts."
   ]
  },
  {
   "cell_type": "code",
   "execution_count": 46,
   "id": "fdd05db7",
   "metadata": {},
   "outputs": [
    {
     "data": {
      "text/html": [
       "<div>\n",
       "<style scoped>\n",
       "    .dataframe tbody tr th:only-of-type {\n",
       "        vertical-align: middle;\n",
       "    }\n",
       "\n",
       "    .dataframe tbody tr th {\n",
       "        vertical-align: top;\n",
       "    }\n",
       "\n",
       "    .dataframe thead th {\n",
       "        text-align: right;\n",
       "    }\n",
       "</style>\n",
       "<table border=\"1\" class=\"dataframe\">\n",
       "  <thead>\n",
       "    <tr style=\"text-align: right;\">\n",
       "      <th></th>\n",
       "      <th>Balck</th>\n",
       "      <th>White</th>\n",
       "      <th>Red</th>\n",
       "      <th>Blue</th>\n",
       "    </tr>\n",
       "  </thead>\n",
       "  <tbody>\n",
       "    <tr>\n",
       "      <th>Male</th>\n",
       "      <td>48</td>\n",
       "      <td>22</td>\n",
       "      <td>33</td>\n",
       "      <td>47</td>\n",
       "    </tr>\n",
       "    <tr>\n",
       "      <th>Female</th>\n",
       "      <td>35</td>\n",
       "      <td>36</td>\n",
       "      <td>42</td>\n",
       "      <td>27</td>\n",
       "    </tr>\n",
       "  </tbody>\n",
       "</table>\n",
       "</div>"
      ],
      "text/plain": [
       "        Balck  White  Red  Blue\n",
       "Male       48     22   33    47\n",
       "Female     35     36   42    27"
      ]
     },
     "execution_count": 46,
     "metadata": {},
     "output_type": "execute_result"
    }
   ],
   "source": [
    "from scipy.stats import chi2_contingency\n",
    "import pandas as pd\n",
    "import numpy as np\n",
    "tshirts = pd.DataFrame(\n",
    "    [\n",
    "        [48,22,33,47],\n",
    "        [35,36,42,27]\n",
    "    ],\n",
    "    index=[\"Male\",\"Female\"],\n",
    "    columns=[\"Balck\",\"White\",\"Red\",\"Blue\"])\n",
    "tshirts"
   ]
  },
  {
   "cell_type": "markdown",
   "id": "f603c55b",
   "metadata": {},
   "source": [
    "You can find the expected values at the forth in the returned value. It is in an array form. Let’s print the expected values in a friendly way. We again use the Pandas dataframe. We are going to add index and column values and round the values to the two decimal places round(2)."
   ]
  },
  {
   "cell_type": "code",
   "execution_count": 49,
   "id": "960d5944",
   "metadata": {},
   "outputs": [
    {
     "data": {
      "text/html": [
       "<div>\n",
       "<style scoped>\n",
       "    .dataframe tbody tr th:only-of-type {\n",
       "        vertical-align: middle;\n",
       "    }\n",
       "\n",
       "    .dataframe tbody tr th {\n",
       "        vertical-align: top;\n",
       "    }\n",
       "\n",
       "    .dataframe thead th {\n",
       "        text-align: right;\n",
       "    }\n",
       "</style>\n",
       "<table border=\"1\" class=\"dataframe\">\n",
       "  <thead>\n",
       "    <tr style=\"text-align: right;\">\n",
       "      <th></th>\n",
       "      <th>Black</th>\n",
       "      <th>White</th>\n",
       "      <th>Red</th>\n",
       "      <th>Blue</th>\n",
       "    </tr>\n",
       "  </thead>\n",
       "  <tbody>\n",
       "    <tr>\n",
       "      <th>Male</th>\n",
       "      <td>42.93</td>\n",
       "      <td>30.0</td>\n",
       "      <td>38.79</td>\n",
       "      <td>38.28</td>\n",
       "    </tr>\n",
       "    <tr>\n",
       "      <th>Female</th>\n",
       "      <td>40.07</td>\n",
       "      <td>28.0</td>\n",
       "      <td>36.21</td>\n",
       "      <td>35.72</td>\n",
       "    </tr>\n",
       "  </tbody>\n",
       "</table>\n",
       "</div>"
      ],
      "text/plain": [
       "        Black  White    Red   Blue\n",
       "Male    42.93   30.0  38.79  38.28\n",
       "Female  40.07   28.0  36.21  35.72"
      ]
     },
     "execution_count": 49,
     "metadata": {},
     "output_type": "execute_result"
    }
   ],
   "source": [
    "df=chi2_contingency(tshirts)[3]\n",
    "pd.DataFrame(\n",
    "    data=df[:,:], \n",
    "    index=[\"Male\",\"Female\"],\n",
    "    columns=[\"Black\",\"White\",\"Red\",\"Blue\"]\n",
    ").round(2)"
   ]
  },
  {
   "attachments": {
    "imagen.png": {
     "image/png": "[encoded data removed]"
    }
   },
   "cell_type": "markdown",
   "id": "d769d572",
   "metadata": {},
   "source": [
    "![imagen.png](attachment:imagen.png)"
   ]
  },
  {
   "attachments": {
    "imagen.png": {
     "image/png": "[encoded data removed]"
    }
   },
   "cell_type": "markdown",
   "id": "f33c1de4",
   "metadata": {},
   "source": [
    "![imagen.png](attachment:imagen.png)"
   ]
  },
  {
   "cell_type": "code",
   "execution_count": 50,
   "id": "a7d1dd23",
   "metadata": {},
   "outputs": [
    {
     "data": {
      "text/plain": [
       "11.56978992417547"
      ]
     },
     "execution_count": 50,
     "metadata": {},
     "output_type": "execute_result"
    }
   ],
   "source": [
    "chisquare=chi2_contingency(tshirts)[0]\n",
    "chisquare"
   ]
  },
  {
   "cell_type": "code",
   "execution_count": 51,
   "id": "51312cf5",
   "metadata": {},
   "outputs": [
    {
     "data": {
      "text/plain": [
       "3"
      ]
     },
     "execution_count": 51,
     "metadata": {},
     "output_type": "execute_result"
    }
   ],
   "source": [
    "dof=chi2_contingency(tshirts)[2]\n",
    "dof"
   ]
  },
  {
   "cell_type": "code",
   "execution_count": 52,
   "id": "ac07fb64",
   "metadata": {},
   "outputs": [
    {
     "data": {
      "text/plain": [
       "0.00901202511379703"
      ]
     },
     "execution_count": 52,
     "metadata": {},
     "output_type": "execute_result"
    }
   ],
   "source": [
    "pvalue=chi2_contingency(tshirts)[1]\n",
    "pvalue"
   ]
  },
  {
   "cell_type": "markdown",
   "id": "01467a7f",
   "metadata": {},
   "source": [
    "Si el p_value < nivel de significancia entonces se rechaza la hipotesis nula de que las dos variables categoricas son independientes"
   ]
  },
  {
   "cell_type": "markdown",
   "id": "912c4679",
   "metadata": {},
   "source": [
    "<h3>ANOVA: Analysis of Variance</h3>\n",
    "<p>The Analysis of Variance  (ANOVA) is a statistical method used to test whether there are significant differences between the means of two or more groups. ANOVA returns two parameters:</p>\n",
    "\n",
    "<p><b>F-test score</b>: ANOVA assumes the means of all groups are the same, calculates how much the actual means deviate from the assumption, and reports it as the F-test score. A larger score means there is a larger difference between the means.</p>\n",
    "\n",
    "<p><b>P-value</b>:  P-value tells how statistically significant our calculated score value is.</p>\n",
    "\n",
    "<p>If our price variable is strongly correlated with the variable we are analyzing, we expect ANOVA to return a sizeable F-test score and a small p-value.</p>"
   ]
  },
  {
   "cell_type": "code",
   "execution_count": 41,
   "id": "a1a2f9d5",
   "metadata": {},
   "outputs": [
    {
     "data": {
      "text/html": [
       "<div>\n",
       "<style scoped>\n",
       "    .dataframe tbody tr th:only-of-type {\n",
       "        vertical-align: middle;\n",
       "    }\n",
       "\n",
       "    .dataframe tbody tr th {\n",
       "        vertical-align: top;\n",
       "    }\n",
       "\n",
       "    .dataframe thead th {\n",
       "        text-align: right;\n",
       "    }\n",
       "</style>\n",
       "<table border=\"1\" class=\"dataframe\">\n",
       "  <thead>\n",
       "    <tr style=\"text-align: right;\">\n",
       "      <th></th>\n",
       "      <th>drive-wheels</th>\n",
       "      <th>price</th>\n",
       "    </tr>\n",
       "  </thead>\n",
       "  <tbody>\n",
       "    <tr>\n",
       "      <th>3</th>\n",
       "      <td>fwd</td>\n",
       "      <td>13950</td>\n",
       "    </tr>\n",
       "    <tr>\n",
       "      <th>4</th>\n",
       "      <td>4wd</td>\n",
       "      <td>17450</td>\n",
       "    </tr>\n",
       "    <tr>\n",
       "      <th>6</th>\n",
       "      <td>fwd</td>\n",
       "      <td>17710</td>\n",
       "    </tr>\n",
       "    <tr>\n",
       "      <th>10</th>\n",
       "      <td>rwd</td>\n",
       "      <td>16430</td>\n",
       "    </tr>\n",
       "    <tr>\n",
       "      <th>11</th>\n",
       "      <td>rwd</td>\n",
       "      <td>16925</td>\n",
       "    </tr>\n",
       "    <tr>\n",
       "      <th>140</th>\n",
       "      <td>4wd</td>\n",
       "      <td>7603</td>\n",
       "    </tr>\n",
       "  </tbody>\n",
       "</table>\n",
       "</div>"
      ],
      "text/plain": [
       "    drive-wheels  price\n",
       "3            fwd  13950\n",
       "4            4wd  17450\n",
       "6            fwd  17710\n",
       "10           rwd  16430\n",
       "11           rwd  16925\n",
       "140          4wd   7603"
      ]
     },
     "execution_count": 41,
     "metadata": {},
     "output_type": "execute_result"
    }
   ],
   "source": [
    "grouped_test2=df_gptest[['drive-wheels', 'price']].groupby(['drive-wheels'])\n",
    "grouped_test2.head(2)"
   ]
  },
  {
   "cell_type": "code",
   "execution_count": 42,
   "id": "7d5b5304",
   "metadata": {},
   "outputs": [
    {
     "data": {
      "text/html": [
       "<div>\n",
       "<style scoped>\n",
       "    .dataframe tbody tr th:only-of-type {\n",
       "        vertical-align: middle;\n",
       "    }\n",
       "\n",
       "    .dataframe tbody tr th {\n",
       "        vertical-align: top;\n",
       "    }\n",
       "\n",
       "    .dataframe thead th {\n",
       "        text-align: right;\n",
       "    }\n",
       "</style>\n",
       "<table border=\"1\" class=\"dataframe\">\n",
       "  <thead>\n",
       "    <tr style=\"text-align: right;\">\n",
       "      <th></th>\n",
       "      <th>drive-wheels</th>\n",
       "      <th>body-style</th>\n",
       "      <th>price</th>\n",
       "    </tr>\n",
       "  </thead>\n",
       "  <tbody>\n",
       "    <tr>\n",
       "      <th>3</th>\n",
       "      <td>fwd</td>\n",
       "      <td>sedan</td>\n",
       "      <td>13950</td>\n",
       "    </tr>\n",
       "    <tr>\n",
       "      <th>4</th>\n",
       "      <td>4wd</td>\n",
       "      <td>sedan</td>\n",
       "      <td>17450</td>\n",
       "    </tr>\n",
       "    <tr>\n",
       "      <th>6</th>\n",
       "      <td>fwd</td>\n",
       "      <td>sedan</td>\n",
       "      <td>17710</td>\n",
       "    </tr>\n",
       "    <tr>\n",
       "      <th>8</th>\n",
       "      <td>fwd</td>\n",
       "      <td>sedan</td>\n",
       "      <td>23875</td>\n",
       "    </tr>\n",
       "    <tr>\n",
       "      <th>10</th>\n",
       "      <td>rwd</td>\n",
       "      <td>sedan</td>\n",
       "      <td>16430</td>\n",
       "    </tr>\n",
       "    <tr>\n",
       "      <th>...</th>\n",
       "      <td>...</td>\n",
       "      <td>...</td>\n",
       "      <td>...</td>\n",
       "    </tr>\n",
       "    <tr>\n",
       "      <th>200</th>\n",
       "      <td>rwd</td>\n",
       "      <td>sedan</td>\n",
       "      <td>16845</td>\n",
       "    </tr>\n",
       "    <tr>\n",
       "      <th>201</th>\n",
       "      <td>rwd</td>\n",
       "      <td>sedan</td>\n",
       "      <td>19045</td>\n",
       "    </tr>\n",
       "    <tr>\n",
       "      <th>202</th>\n",
       "      <td>rwd</td>\n",
       "      <td>sedan</td>\n",
       "      <td>21485</td>\n",
       "    </tr>\n",
       "    <tr>\n",
       "      <th>203</th>\n",
       "      <td>rwd</td>\n",
       "      <td>sedan</td>\n",
       "      <td>22470</td>\n",
       "    </tr>\n",
       "    <tr>\n",
       "      <th>204</th>\n",
       "      <td>rwd</td>\n",
       "      <td>sedan</td>\n",
       "      <td>22625</td>\n",
       "    </tr>\n",
       "  </tbody>\n",
       "</table>\n",
       "<p>159 rows × 3 columns</p>\n",
       "</div>"
      ],
      "text/plain": [
       "    drive-wheels body-style  price\n",
       "3            fwd      sedan  13950\n",
       "4            4wd      sedan  17450\n",
       "6            fwd      sedan  17710\n",
       "8            fwd      sedan  23875\n",
       "10           rwd      sedan  16430\n",
       "..           ...        ...    ...\n",
       "200          rwd      sedan  16845\n",
       "201          rwd      sedan  19045\n",
       "202          rwd      sedan  21485\n",
       "203          rwd      sedan  22470\n",
       "204          rwd      sedan  22625\n",
       "\n",
       "[159 rows x 3 columns]"
      ]
     },
     "execution_count": 42,
     "metadata": {},
     "output_type": "execute_result"
    }
   ],
   "source": [
    "df_gptest"
   ]
  },
  {
   "cell_type": "code",
   "execution_count": 43,
   "id": "7b8bffe2",
   "metadata": {},
   "outputs": [
    {
     "data": {
      "text/plain": [
       "4      17450\n",
       "140     7603\n",
       "144     9233\n",
       "145    11259\n",
       "148     8013\n",
       "149    11694\n",
       "154     7898\n",
       "155     8778\n",
       "Name: price, dtype: int32"
      ]
     },
     "execution_count": 43,
     "metadata": {},
     "output_type": "execute_result"
    }
   ],
   "source": [
    "grouped_test2.get_group('4wd')['price']"
   ]
  },
  {
   "cell_type": "code",
   "execution_count": 44,
   "id": "9c797b0b",
   "metadata": {},
   "outputs": [
    {
     "name": "stdout",
     "output_type": "stream",
     "text": [
      "ANOVA results: F= 66.99073391404414 , P = 9.973317664143404e-22\n"
     ]
    }
   ],
   "source": [
    "# ANOVA\n",
    "f_val, p_val = stats.f_oneway(grouped_test2.get_group('fwd')['price'], grouped_test2.get_group('rwd')['price'], grouped_test2.get_group('4wd')['price'])  \n",
    " \n",
    "print( \"ANOVA results: F=\", f_val, \", P =\", p_val)   "
   ]
  },
  {
   "cell_type": "markdown",
   "id": "dfbebf83",
   "metadata": {},
   "source": [
    "This is a great result with a large F-test score showing a strong correlation and a P-value of almost 0 implying almost certain statistical significance. But does this mean all three tested groups are all this highly correlated?\n",
    "\n",
    "Let's examine them separately."
   ]
  },
  {
   "cell_type": "code",
   "execution_count": 45,
   "id": "3c5890a7",
   "metadata": {},
   "outputs": [
    {
     "name": "stdout",
     "output_type": "stream",
     "text": [
      "ANOVA results: F= 130.71816724235973 , P = 3.965316250053441e-22\n"
     ]
    }
   ],
   "source": [
    "f_val, p_val = stats.f_oneway(grouped_test2.get_group('fwd')['price'], grouped_test2.get_group('rwd')['price'])  \n",
    " \n",
    "print( \"ANOVA results: F=\", f_val, \", P =\", p_val )"
   ]
  },
  {
   "cell_type": "code",
   "execution_count": 46,
   "id": "f8cbdb15",
   "metadata": {},
   "outputs": [
    {
     "name": "stdout",
     "output_type": "stream",
     "text": [
      "ANOVA results: F= 10.277906326735897 , P = 0.0023034687518854306\n"
     ]
    }
   ],
   "source": [
    "f_val, p_val = stats.f_oneway(grouped_test2.get_group('4wd')['price'], grouped_test2.get_group('rwd')['price'])  \n",
    "   \n",
    "print( \"ANOVA results: F=\", f_val, \", P =\", p_val)   "
   ]
  },
  {
   "cell_type": "code",
   "execution_count": 47,
   "id": "c2eea244",
   "metadata": {},
   "outputs": [
    {
     "name": "stdout",
     "output_type": "stream",
     "text": [
      "ANOVA results: F= 1.5202558364479262 , P = 0.22018566322213404\n"
     ]
    }
   ],
   "source": [
    "f_val, p_val = stats.f_oneway(grouped_test2.get_group('4wd')['price'], grouped_test2.get_group('fwd')['price'])  \n",
    " \n",
    "print(\"ANOVA results: F=\", f_val, \", P =\", p_val)   "
   ]
  },
  {
   "cell_type": "code",
   "execution_count": null,
   "id": "000c9b93",
   "metadata": {},
   "outputs": [],
   "source": []
  },
  {
   "cell_type": "code",
   "execution_count": null,
   "id": "5910722d",
   "metadata": {},
   "outputs": [],
   "source": []
  },
  {
   "cell_type": "code",
   "execution_count": null,
   "id": "389310c1",
   "metadata": {},
   "outputs": [],
   "source": []
  },
  {
   "cell_type": "code",
   "execution_count": null,
   "id": "5bcc0945",
   "metadata": {},
   "outputs": [],
   "source": []
  },
  {
   "cell_type": "code",
   "execution_count": null,
   "id": "dd246b66",
   "metadata": {},
   "outputs": [],
   "source": []
  },
  {
   "cell_type": "code",
   "execution_count": null,
   "id": "f471afe7",
   "metadata": {},
   "outputs": [],
   "source": []
  },
  {
   "cell_type": "code",
   "execution_count": null,
   "id": "569cd8b9",
   "metadata": {},
   "outputs": [],
   "source": []
  },
  {
   "cell_type": "code",
   "execution_count": null,
   "id": "c32c4367",
   "metadata": {},
   "outputs": [],
   "source": []
  },
  {
   "cell_type": "code",
   "execution_count": null,
   "id": "6671f190",
   "metadata": {},
   "outputs": [],
   "source": []
  }
 ],
 "metadata": {
  "kernelspec": {
   "display_name": "Python 3 (ipykernel)",
   "language": "python",
   "name": "python3"
  },
  "language_info": {
   "codemirror_mode": {
    "name": "ipython",
    "version": 3
   },
   "file_extension": ".py",
   "mimetype": "text/x-python",
   "name": "python",
   "nbconvert_exporter": "python",
   "pygments_lexer": "ipython3",
   "version": "3.9.7"
  }
 },
 "nbformat": 4,
 "nbformat_minor": 5
}
